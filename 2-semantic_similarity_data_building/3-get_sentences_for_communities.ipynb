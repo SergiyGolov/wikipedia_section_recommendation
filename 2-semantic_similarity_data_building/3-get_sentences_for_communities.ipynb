{
 "cells": [
  {
   "cell_type": "code",
   "execution_count": null,
   "id": "05f5c9a5",
   "metadata": {},
   "outputs": [],
   "source": [
    "# in this notebook, the word \"sentences\" is used instead of \"section contents\" like in the report"
   ]
  },
  {
   "cell_type": "code",
   "execution_count": 1,
   "id": "uniform-glossary",
   "metadata": {},
   "outputs": [],
   "source": [
    "%run ../utils/common.py"
   ]
  },
  {
   "cell_type": "code",
   "execution_count": 2,
   "id": "operational-assessment",
   "metadata": {},
   "outputs": [],
   "source": [
    "article_sections=load_json(\"../data/article_sections_filtered.json\", object_hook=article_sections_object_hook)\n",
    "\n",
    "# we get the set of article ids which have at least one section after filtering out unique sections\n",
    "articles_with_sections=set(article_sections.keys())\n",
    "\n",
    "# while in memory, we use category ids insead of their titles to save space (because the same category appears multiple times)\n",
    "category_title_to_id_map=get_category_title_to_id_map()\n",
    "category_id_to_title_map={v:k for k,v in category_title_to_id_map.items()}"
   ]
  },
  {
   "cell_type": "code",
   "execution_count": 3,
   "id": "confirmed-freedom",
   "metadata": {},
   "outputs": [],
   "source": [
    "wcnoutput_file=\"../data/gini_articles_scores_0985_no_unknown_type.json\""
   ]
  },
  {
   "cell_type": "code",
   "execution_count": 4,
   "id": "concerned-cabinet",
   "metadata": {},
   "outputs": [],
   "source": [
    "# key: category, value: articles that contribute to given category's section counts\n",
    "category_articles={}\n",
    "with open(wcnoutput_file) as f:\n",
    "    for line in f:\n",
    "        line_dict = json.loads(line)\n",
    "        category = line_dict['category']\n",
    "        category_id=category_title_to_id_map[category]\n",
    "        articles=[article for article in line_dict['articles'] if article in articles_with_sections]\n",
    "        category_articles[category_id]=articles"
   ]
  },
  {
   "cell_type": "code",
   "execution_count": 5,
   "id": "graphic-beaver",
   "metadata": {},
   "outputs": [],
   "source": [
    "del articles_with_sections"
   ]
  },
  {
   "cell_type": "code",
   "execution_count": 6,
   "id": "signed-portrait",
   "metadata": {},
   "outputs": [],
   "source": [
    "category_top_sections={category_title_to_id_map[category]:sections for category,sections in json.loads(open(\"../data/category_top_sections.json\").read()).items()}"
   ]
  },
  {
   "cell_type": "code",
   "execution_count": 7,
   "id": "normal-reliance",
   "metadata": {},
   "outputs": [],
   "source": [
    "# key: community, value: categories in this community\n",
    "community_categories={}\n",
    "with open(\"../data/categories_splitted_into_communities.json\", \"r\") as f_in:\n",
    "    for line in f_in:\n",
    "        json_line=json.loads(line)\n",
    "        categories=json_line['categories']\n",
    "        community_id=json_line['community_id']\n",
    "        community_categories[community_id]=[category_title_to_id_map[category] for category in categories]"
   ]
  },
  {
   "cell_type": "code",
   "execution_count": 8,
   "id": "static-gregory",
   "metadata": {},
   "outputs": [],
   "source": [
    "#key: category id, value: community to which this category belongs\n",
    "category_community={}\n",
    "for community,categories in community_categories.items():\n",
    "    for category_id in categories:\n",
    "        category_community[category_id]=community"
   ]
  },
  {
   "cell_type": "code",
   "execution_count": 9,
   "id": "impressive-violin",
   "metadata": {},
   "outputs": [],
   "source": [
    "#key: article id, value: list of categories to which this article contributes its sections to the section counts\n",
    "article_category={}\n",
    "with open(\"../data/article_categories_no_unknown_types.tsv\") as f:\n",
    "    for line in f:\n",
    "        split_line = line.split()\n",
    "        article = int(split_line[0])\n",
    "        category = split_line[2]\n",
    "        category_id=category_title_to_id_map[category]\n",
    "        if article not in article_category.keys():\n",
    "            article_category[article]=[]\n",
    "        article_category[article].append(category_id)"
   ]
  },
  {
   "cell_type": "code",
   "execution_count": 10,
   "id": "alleged-custody",
   "metadata": {},
   "outputs": [],
   "source": [
    "# key: article id, value: number of communities in which article appears\n",
    "article_nb_communities={article:len(set([category_community[category_id] for category_id in article_category[article] if category_id in category_community.keys()])) for article in article_category.keys()}"
   ]
  },
  {
   "cell_type": "code",
   "execution_count": 13,
   "id": "arctic-drilling",
   "metadata": {},
   "outputs": [],
   "source": [
    "import matplotlib.pyplot as plt\n",
    "import seaborn as sns\n",
    "%matplotlib inline\n",
    "def plot_nb_different_category_communities_by_article(article_nb_communities):\n",
    "    plt.figure(figsize=(14,8))\n",
    "    \n",
    "    data=[]\n",
    "    for article,nb_communities in article_nb_communities.items():\n",
    "        data.append(nb_communities)\n",
    "            \n",
    "    plot=sns.histplot(data=data,stat=\"probability\",bins=list(range(1,11)))\n",
    "    plot.set_xticks(list(range(1,11)))\n",
    "    \n",
    "    plot.set_title(\"Distribution of number of communities to which articles belong\")\n",
    "    plot.set_xlabel(\"Number of communities by article\")\n",
    "    plot.set_ylabel(\"Proportion\")\n",
    "    plt.show()"
   ]
  },
  {
   "cell_type": "code",
   "execution_count": 14,
   "id": "reserved-prefix",
   "metadata": {},
   "outputs": [
    {
     "data": {
      "image/png": "[encoded data removed]",
      "text/plain": [
       "<Figure size 1008x576 with 1 Axes>"
      ]
     },
     "metadata": {
      "needs_background": "light"
     },
     "output_type": "display_data"
    }
   ],
   "source": [
    "plot_nb_different_category_communities_by_article(article_nb_communities)"
   ]
  },
  {
   "cell_type": "code",
   "execution_count": 20,
   "id": "suburban-warning",
   "metadata": {},
   "outputs": [
    {
     "data": {
      "application/vnd.jupyter.widget-view+json": {
       "model_id": "1c487abec2364889a82a5adad2f783ec",
       "version_major": 2,
       "version_minor": 0
      },
      "text/plain": [
       "  0%|          | 0/28053 [00:00<?, ?it/s]"
      ]
     },
     "metadata": {},
     "output_type": "display_data"
    }
   ],
   "source": [
    "community_top_sections={}\n",
    "community_articles={}\n",
    "\n",
    "for community_id in tqdm(list(community_categories.keys())):\n",
    "    community_top_sections[community_id]=set()\n",
    "    community_articles[community_id]=set()\n",
    "    \n",
    "    for category_id in community_categories[community_id]:\n",
    "        community_top_sections[community_id]|=set(category_top_sections[category_id])\n",
    "        del category_top_sections[category_id]\n",
    "        \n",
    "        community_articles[community_id]|=set(category_articles[category_id])\n",
    "        del category_articles[category_id]\n",
    "        \n",
    "    \n",
    "    del community_categories[community_id]"
   ]
  },
  {
   "cell_type": "code",
   "execution_count": 21,
   "id": "suitable-somewhere",
   "metadata": {},
   "outputs": [],
   "source": [
    "def get_sum_nb_sentences(community_ids):\n",
    "    sum_nb_sentences_in_communities=0\n",
    "    articles=set().union(*[community_articles[community_id] for community_id in community_ids])\n",
    "    top_sections=set().union(*[community_top_sections[community_id] for community_id in community_ids])\n",
    "    for article in articles:\n",
    "        if article in article_sections.keys():\n",
    "            for section in article_sections[article]:\n",
    "                if section in top_sections:\n",
    "                    sum_nb_sentences_in_communities+=1\n",
    "                \n",
    "    return sum_nb_sentences_in_communities"
   ]
  },
  {
   "cell_type": "code",
   "execution_count": 22,
   "id": "super-detail",
   "metadata": {},
   "outputs": [],
   "source": [
    "# key: community id, value: sum of nb sentences among articles in a community\n",
    "community_nb_sentences={community_id:get_sum_nb_sentences([community_id]) for community_id in community_articles.keys()}"
   ]
  },
  {
   "cell_type": "code",
   "execution_count": 23,
   "id": "romantic-hunger",
   "metadata": {},
   "outputs": [],
   "source": [
    "from collections import Counter\n",
    "communities_sorted_by_nb_sentences=[community for community,nb_sentences in Counter(community_nb_sentences).most_common()]"
   ]
  },
  {
   "cell_type": "code",
   "execution_count": 24,
   "id": "alike-lodging",
   "metadata": {},
   "outputs": [],
   "source": [
    "decreasing_nb_sentences=[nb_sentences for community,nb_sentences in Counter(community_nb_sentences).most_common()]"
   ]
  },
  {
   "cell_type": "code",
   "execution_count": 25,
   "id": "coated-prediction",
   "metadata": {},
   "outputs": [
    {
     "data": {
      "text/plain": [
       "[420863,\n",
       " 395963,\n",
       " 385494,\n",
       " 361622,\n",
       " 359183,\n",
       " 344956,\n",
       " 334873,\n",
       " 334753,\n",
       " 331623,\n",
       " 331594]"
      ]
     },
     "execution_count": 25,
     "metadata": {},
     "output_type": "execute_result"
    }
   ],
   "source": [
    "decreasing_nb_sentences[:10]"
   ]
  },
  {
   "cell_type": "code",
   "execution_count": 26,
   "id": "coral-cigarette",
   "metadata": {},
   "outputs": [
    {
     "data": {
      "text/plain": [
       "28053"
      ]
     },
     "execution_count": 26,
     "metadata": {},
     "output_type": "execute_result"
    }
   ],
   "source": [
    "len(communities_sorted_by_nb_sentences)"
   ]
  },
  {
   "cell_type": "code",
   "execution_count": 27,
   "id": "possible-warrior",
   "metadata": {},
   "outputs": [],
   "source": [
    "# the goal is to scan the file once for multiple communities, we cannot fit all the section contents at same time\n",
    "# in this notebook, we use it to measure if the section contents of n communities would fit in memory\n",
    "def get_article_section_sentences_for_communities(communities):\n",
    "    articles_to_get=set().union(*[community_articles[x] for x in communities])\n",
    "    sections_to_get=set().union(*[community_top_sections[x] for x in communities])\n",
    "    \n",
    "    article_section_sentences={}\n",
    "    with open(\"../data/article_section_grouped_sentences.json\", \"r\") as f_in:\n",
    "        for line in tqdm(f_in,total=1726525):\n",
    "            json_line=json.loads(line)\n",
    "            article_id=json_line['article_id']\n",
    "            if article_id not in articles_to_get:\n",
    "                continue\n",
    "            section_sentences=[section_sentence for section_sentence in json_line['section_grouped_sentences'] if section_sentence['section'] in sections_to_get]\n",
    "            \n",
    "            already_added_sections=set()\n",
    "            section_first_sentences=[]\n",
    "            for section_sentence in section_sentences:\n",
    "                del section_sentence['token_count']\n",
    "                # we use only first grouped section content for each section\n",
    "                if section_sentence['section'] not in already_added_sections:\n",
    "                    section_first_sentences.append(section_sentence)\n",
    "                already_added_sections.add(section_sentence['section'])\n",
    "\n",
    "            article_section_sentences[article_id]=section_first_sentences\n",
    "            \n",
    "    return article_section_sentences"
   ]
  },
  {
   "cell_type": "code",
   "execution_count": 28,
   "id": "blocked-sample",
   "metadata": {},
   "outputs": [],
   "source": [
    "n=10"
   ]
  },
  {
   "cell_type": "code",
   "execution_count": 29,
   "id": "digital-developer",
   "metadata": {},
   "outputs": [
    {
     "data": {
      "application/vnd.jupyter.widget-view+json": {
       "model_id": "ca9bc0bc6a1545db9c3589f813174d5e",
       "version_major": 2,
       "version_minor": 0
      },
      "text/plain": [
       "  0%|          | 0/1726525 [00:00<?, ?it/s]"
      ]
     },
     "metadata": {},
     "output_type": "display_data"
    }
   ],
   "source": [
    "# different values for n were tested to see how much unique section contents at the same time\n",
    "# could be loaded in memory\n",
    "# 69% memory before\n",
    "# 76% after, with n=10\n",
    "x=get_article_section_sentences_for_communities(communities_sorted_by_nb_sentences[:n])"
   ]
  },
  {
   "cell_type": "code",
   "execution_count": 30,
   "id": "military-wales",
   "metadata": {},
   "outputs": [],
   "source": [
    "del x"
   ]
  },
  {
   "cell_type": "code",
   "execution_count": 31,
   "id": "peripheral-nerve",
   "metadata": {},
   "outputs": [],
   "source": [
    "max_sum_nb_sentences_by_batch=get_sum_nb_sentences(communities_sorted_by_nb_sentences[:n])"
   ]
  },
  {
   "cell_type": "code",
   "execution_count": 32,
   "id": "above-profession",
   "metadata": {},
   "outputs": [
    {
     "data": {
      "text/plain": [
       "2294401"
      ]
     },
     "execution_count": 32,
     "metadata": {},
     "output_type": "execute_result"
    }
   ],
   "source": [
    "max_sum_nb_sentences_by_batch"
   ]
  },
  {
   "cell_type": "code",
   "execution_count": 33,
   "id": "future-local",
   "metadata": {},
   "outputs": [
    {
     "data": {
      "application/vnd.jupyter.widget-view+json": {
       "model_id": "b5531c2b559f47abaf7fb0960cb73195",
       "version_major": 2,
       "version_minor": 0
      },
      "text/plain": [
       "  0%|          | 0/28053 [00:00<?, ?it/s]"
      ]
     },
     "metadata": {},
     "output_type": "display_data"
    }
   ],
   "source": [
    "# we group together communities in batches in order to avoid to read the article_section_grouped_sentences\n",
    "# file for each community\n",
    "# the first 10 communities of the sorted community list by decreasing nb_sentences order fitted in memory\n",
    "# therefore the criteria to group together the next communities after the first 10, was the sum of\n",
    "# the number of sentences in those 10 first communities\n",
    "\n",
    "beginning_indexes=[]\n",
    "end_indexes=[]\n",
    "beginning_index=0\n",
    "end_index=0\n",
    "\n",
    "pbar=tqdm(total=len(communities_sorted_by_nb_sentences))\n",
    "index_multiplier=1\n",
    "while end_index<len(communities_sorted_by_nb_sentences):\n",
    "    sum_nb_sentences_by_batch=0\n",
    "    while True:\n",
    "        sum_nb_sentences_by_batch=get_sum_nb_sentences(communities_sorted_by_nb_sentences[beginning_index:end_index])\n",
    "        if sum_nb_sentences_by_batch>=max_sum_nb_sentences_by_batch or end_index>=len(communities_sorted_by_nb_sentences):\n",
    "            break\n",
    "        end_index+=10*index_multiplier\n",
    "        pbar.update(10*index_multiplier)\n",
    "    \n",
    "    index_multiplier*=2\n",
    "    if end_index>len(communities_sorted_by_nb_sentences):\n",
    "        end_index=len(communities_sorted_by_nb_sentences)\n",
    "    end_indexes.append(end_index)\n",
    "    beginning_indexes.append(beginning_index)\n",
    "    beginning_index=end_index\n",
    "    "
   ]
  },
  {
   "cell_type": "code",
   "execution_count": 34,
   "id": "cutting-gallery",
   "metadata": {},
   "outputs": [
    {
     "name": "stdout",
     "output_type": "stream",
     "text": [
      "0-10: 2294401 sentences\n",
      "10-50: 3152918 sentences\n",
      "50-130: 3003526 sentences\n",
      "130-290: 2551197 sentences\n",
      "290-28053: 2172511 sentences\n"
     ]
    }
   ],
   "source": [
    "for a,b in zip(beginning_indexes,end_indexes):\n",
    "    print(f\"{a}-{b}: {get_sum_nb_sentences(communities_sorted_by_nb_sentences[a:b])} sentences\")"
   ]
  },
  {
   "cell_type": "code",
   "execution_count": 35,
   "id": "blind-minnesota",
   "metadata": {},
   "outputs": [],
   "source": [
    "index_of_first_community_with_less_than_2_sentences=min([i for i,nb_sentences in enumerate(decreasing_nb_sentences) if nb_sentences<2])"
   ]
  },
  {
   "cell_type": "code",
   "execution_count": 36,
   "id": "conventional-opinion",
   "metadata": {},
   "outputs": [
    {
     "data": {
      "text/plain": [
       "24736"
      ]
     },
     "execution_count": 36,
     "metadata": {},
     "output_type": "execute_result"
    }
   ],
   "source": [
    "index_of_first_community_with_less_than_2_sentences"
   ]
  },
  {
   "cell_type": "code",
   "execution_count": 37,
   "id": "southern-northwest",
   "metadata": {},
   "outputs": [
    {
     "data": {
      "application/vnd.jupyter.widget-view+json": {
       "model_id": "cbc345fe5c314f8f8477e7387874bfbe",
       "version_major": 2,
       "version_minor": 0
      },
      "text/plain": [
       "0it [00:00, ?it/s]"
      ]
     },
     "metadata": {},
     "output_type": "display_data"
    }
   ],
   "source": [
    "with open(\"../data/community_article_and_sections_grouped_in_batches.json\", \"a+\") as f_out:\n",
    "    for beginning_index,end_index in tqdm(zip(beginning_indexes,end_indexes)):\n",
    "        if end_index>index_of_first_community_with_less_than_2_sentences:\n",
    "            end_index=index_of_first_community_with_less_than_2_sentences\n",
    "        communities=communities_sorted_by_nb_sentences[beginning_index:end_index]\n",
    "        community_articles_grouped_by_batch=[]\n",
    "        community_sections_grouped_by_batch=[]\n",
    "        for community_id in communities:\n",
    "            # if a community contains only 1 article or only 1 section, there is no purpose to compare\n",
    "            # section contents\n",
    "            if len(community_articles[community_id])<2 or len(community_top_sections[community_id])<2:\n",
    "                continue\n",
    "            community_articles_grouped_by_batch.append({'community_id':community_id,'articles':list(community_articles[community_id])})\n",
    "            community_sections_grouped_by_batch.append({'community_id':community_id,'sections':list(community_top_sections[community_id])})\n",
    "        if len(community_articles_grouped_by_batch)>0:\n",
    "            f_out.write(json.dumps({'community_articles_grouped_by_batch':community_articles_grouped_by_batch,'community_sections_grouped_by_batch':community_sections_grouped_by_batch})+\"\\n\")"
   ]
  }
 ],
 "metadata": {
  "kernelspec": {
   "display_name": "Python 3.9.5 64-bit ('tm_venv')",
   "language": "python",
   "name": "python39564bittmvenv3226d3cd01364047aed0020f60ff15c7"
  },
  "language_info": {
   "codemirror_mode": {
    "name": "ipython",
    "version": 3
   },
   "file_extension": ".py",
   "mimetype": "text/x-python",
   "name": "python",
   "nbconvert_exporter": "python",
   "pygments_lexer": "ipython3",
   "version": "3.10.1"
  }
 },
 "nbformat": 4,
 "nbformat_minor": 5
}
