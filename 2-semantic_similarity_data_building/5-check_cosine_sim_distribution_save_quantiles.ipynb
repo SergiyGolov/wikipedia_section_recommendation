{
 "cells": [
  {
   "cell_type": "code",
   "execution_count": 1,
   "id": "functioning-arthur",
   "metadata": {},
   "outputs": [],
   "source": [
    "%run ../utils/common.py\n",
    "from pymongo import MongoClient\n",
    "client = MongoClient()\n",
    "db = client.wikipedia"
   ]
  },
  {
   "cell_type": "code",
   "execution_count": 2,
   "id": "vertical-banks",
   "metadata": {},
   "outputs": [],
   "source": [
    "processed_communities=get_processed_communities()"
   ]
  },
  {
   "cell_type": "code",
   "execution_count": 5,
   "id": "nearby-saying",
   "metadata": {},
   "outputs": [
    {
     "data": {
      "application/vnd.jupyter.widget-view+json": {
       "model_id": "259bf8e3997444cf9705e83a21a7831d",
       "version_major": 2,
       "version_minor": 0
      },
      "text/plain": [
       "  0%|          | 0/7917 [00:00<?, ?it/s]"
      ]
     },
     "metadata": {},
     "output_type": "display_data"
    }
   ],
   "source": [
    "cosine_sims=[]\n",
    "for community_id in tqdm(processed_communities):\n",
    "    with open(f\"../data/semantic_similarity/community_{community_id}/similar_section_pairs.json\", \"r\") as f_in:\n",
    "        for line in f_in:\n",
    "            json_line=json.loads(line)\n",
    "            cosine_sims.append(json_line['mean_score'])"
   ]
  },
  {
   "cell_type": "code",
   "execution_count": 11,
   "id": "loved-frontier",
   "metadata": {},
   "outputs": [],
   "source": [
    "import matplotlib.pyplot as plt\n",
    "import seaborn as sns\n",
    "%matplotlib inline\n",
    "def plot_cosine_sim_distribution(cosine_sims):\n",
    "    plt.figure(figsize=(14,8))\n",
    "            \n",
    "    plot=sns.histplot(data=cosine_sims,stat=\"probability\",bins=[i/20+0.5 for i in range(0,11)])\n",
    "    plot.set_xticks([i/20+0.5 for i in range(0,11)])\n",
    "    \n",
    "    plot.set_title(\"Distribution of cosine similarities\")\n",
    "    plot.set_xlabel(\"Cosine similarity\")\n",
    "    plot.set_ylabel(\"Proportion\")\n",
    "    plt.show()"
   ]
  },
  {
   "cell_type": "code",
   "execution_count": 12,
   "id": "silver-canon",
   "metadata": {},
   "outputs": [
    {
     "data": {
      "image/png": "[encoded data removed]",
      "text/plain": [
       "<Figure size 1008x576 with 1 Axes>"
      ]
     },
     "metadata": {
      "needs_background": "light"
     },
     "output_type": "display_data"
    }
   ],
   "source": [
    "plot_cosine_sim_distribution(cosine_sims)"
   ]
  },
  {
   "cell_type": "code",
   "execution_count": 3,
   "id": "generous-maximum",
   "metadata": {},
   "outputs": [],
   "source": [
    "from statistics import quantiles"
   ]
  },
  {
   "cell_type": "code",
   "execution_count": 6,
   "id": "parental-climb",
   "metadata": {},
   "outputs": [
    {
     "data": {
      "text/plain": [
       "[0.554182292450042, 0.6228756904602051]"
      ]
     },
     "execution_count": 6,
     "metadata": {},
     "output_type": "execute_result"
    }
   ],
   "source": [
    "quantiles(cosine_sims,n=3)"
   ]
  },
  {
   "cell_type": "code",
   "execution_count": 9,
   "id": "recognized-dispute",
   "metadata": {},
   "outputs": [
    {
     "data": {
      "text/plain": [
       "1.0000008344650269"
      ]
     },
     "execution_count": 9,
     "metadata": {},
     "output_type": "execute_result"
    }
   ],
   "source": [
    "max(cosine_sims)"
   ]
  },
  {
   "cell_type": "code",
   "execution_count": 10,
   "id": "optical-supplier",
   "metadata": {},
   "outputs": [
    {
     "data": {
      "text/plain": [
       "0.5000000596046448"
      ]
     },
     "execution_count": 10,
     "metadata": {},
     "output_type": "execute_result"
    }
   ],
   "source": [
    "min(cosine_sims)"
   ]
  },
  {
   "cell_type": "code",
   "execution_count": 4,
   "id": "sunset-narrative",
   "metadata": {},
   "outputs": [
    {
     "data": {
      "application/vnd.jupyter.widget-view+json": {
       "model_id": "d783b1dd2a854d48b04ecfcf7f385042",
       "version_major": 2,
       "version_minor": 0
      },
      "text/plain": [
       "  0%|          | 0/7917 [00:00<?, ?it/s]"
      ]
     },
     "metadata": {},
     "output_type": "display_data"
    }
   ],
   "source": [
    "\n",
    "for community_id in tqdm(processed_communities):\n",
    "    cosine_sims_in_community=[]\n",
    "    with open(f\"../data/semantic_similarity/community_{community_id}/similar_section_pairs.json\", \"r\") as f_in:\n",
    "        for line in f_in:\n",
    "            json_line=json.loads(line)\n",
    "            cosine_sims_in_community.append(json_line['mean_score'])\n",
    "    if len(cosine_sims_in_community)>=2:\n",
    "        with open(f\"../data/semantic_similarity/community_{community_id}/cosine_sim_thresholds.json\", \"a+\") as f_out:\n",
    "            for i,min_cosine_sim in enumerate(quantiles(cosine_sims_in_community,n=3)):\n",
    "                semantic_filtering_level=2-i\n",
    "                f_out.write(json.dumps({'semantic_filtering_level':semantic_filtering_level,'min_cosine_sim':min_cosine_sim})+\"\\n\")"
   ]
  },
  {
   "cell_type": "code",
   "execution_count": null,
   "id": "finished-module",
   "metadata": {},
   "outputs": [],
   "source": []
  }
 ],
 "metadata": {
  "kernelspec": {
   "display_name": "Python 3.9.5 64-bit ('tm_venv')",
   "language": "python",
   "name": "python39564bittmvenv3226d3cd01364047aed0020f60ff15c7"
  },
  "language_info": {
   "codemirror_mode": {
    "name": "ipython",
    "version": 3
   },
   "file_extension": ".py",
   "mimetype": "text/x-python",
   "name": "python",
   "nbconvert_exporter": "python",
   "pygments_lexer": "ipython3",
   "version": "3.10.1"
  }
 },
 "nbformat": 4,
 "nbformat_minor": 5
}
