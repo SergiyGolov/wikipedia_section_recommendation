{
 "cells": [
  {
   "cell_type": "code",
   "execution_count": 1,
   "id": "satisfactory-christianity",
   "metadata": {},
   "outputs": [],
   "source": [
    "%run ../utils/recommendation.py"
   ]
  },
  {
   "cell_type": "code",
   "execution_count": 2,
   "id": "editorial-samba",
   "metadata": {},
   "outputs": [],
   "source": [
    "articles_categories_no_unknown_type_file = \"../data/article_categories_no_unknown_types.tsv\"\n",
    "wcnoutput_file_0985_no_unknown_types=\"../data/gini_articles_scores_0985_no_unknown_type.json\""
   ]
  },
  {
   "cell_type": "code",
   "execution_count": 3,
   "id": "rural-visit",
   "metadata": {},
   "outputs": [
    {
     "name": "stdout",
     "output_type": "stream",
     "text": [
      "Running experiment gini_threshold-0985_no_unknown_types-category_section_counts_with_test_set\n",
      "\tGetting all article ids...\n",
      "\tSpliting article ids into train (0.8) and test (0.2) set...\n",
      "\tGetting article sections...\n",
      "\tGetting categories of test set articles\n"
     ]
    },
    {
     "data": {
      "application/vnd.jupyter.widget-view+json": {
       "model_id": "03f289512223481d800fceff2adcee60",
       "version_major": 2,
       "version_minor": 0
      },
      "text/plain": [
       "  0%|          | 0/2048190 [00:00<?, ?it/s]"
      ]
     },
     "metadata": {},
     "output_type": "display_data"
    },
    {
     "name": "stdout",
     "output_type": "stream",
     "text": [
      "\tGetting category section counts\n"
     ]
    },
    {
     "data": {
      "application/vnd.jupyter.widget-view+json": {
       "model_id": "60497dcb90c249f1b7fbba5c59bee941",
       "version_major": 2,
       "version_minor": 0
      },
      "text/plain": [
       "  0%|          | 0/1032526 [00:00<?, ?it/s]"
      ]
     },
     "metadata": {},
     "output_type": "display_data"
    },
    {
     "name": "stdout",
     "output_type": "stream",
     "text": [
      "\tSaving category section counts on disk\n"
     ]
    },
    {
     "data": {
      "application/vnd.jupyter.widget-view+json": {
       "model_id": "3732f925c69b41c7b085d729fdde4088",
       "version_major": 2,
       "version_minor": 0
      },
      "text/plain": [
       "  0%|          | 0/800830 [00:00<?, ?it/s]"
      ]
     },
     "metadata": {},
     "output_type": "display_data"
    }
   ],
   "source": [
    "# we compute category section counts but not for eval, therefore we include all articles (ie do not separate into\n",
    "# test and train set) because the goal is to get as much section contents as possible\n",
    "# and anyway the filtering method will not introduce sections which were not present in the result of eval file\n",
    "experiment(\"gini_threshold-0985_no_unknown_types-category_section_counts_with_test_set\", articles_categories_no_unknown_type_file, wcnoutput_file_0985_no_unknown_types, include_test_set=True,save_article_recs=False)"
   ]
  },
  {
   "cell_type": "code",
   "execution_count": 5,
   "id": "constitutional-grammar",
   "metadata": {},
   "outputs": [],
   "source": [
    "category_top_sections={}\n",
    "with open(\"../data/results/gini_threshold-0985_no_unknown_types-category_section_counts_with_test_set/recs_by_category_top30.json\") as f:\n",
    "    for line in f:\n",
    "        line_dict = json.loads(line)\n",
    "        category=line_dict['category']\n",
    "        sections=set([x['section'] for x in line_dict['recs']])\n",
    "        category_top_sections[category]=sections"
   ]
  },
  {
   "cell_type": "code",
   "execution_count": 4,
   "id": "scientific-sharp",
   "metadata": {},
   "outputs": [],
   "source": [
    "# in addition of top30 sections for each category by including test set,\n",
    "# we add sections that were in category sections counts of the \"gini_threshold-0985_no_unknown_types\" result\n",
    "# because in some small categories, there are sections that appear only once, therefore those sections\n",
    "# all have the same probability (ie 1/len(total number of sections in category)), and if they are included\n",
    "# in the category section counts depend on way that the Counter class handles ties"
   ]
  },
  {
   "cell_type": "code",
   "execution_count": 6,
   "id": "later-solid",
   "metadata": {},
   "outputs": [],
   "source": [
    "with open(\"../data/results/gini_threshold-0985_no_unknown_types/recs_by_category_top30.json\") as f:\n",
    "    for line in f:\n",
    "        line_dict = json.loads(line)\n",
    "        category=line_dict['category']\n",
    "        sections=set([x['section'] for x in line_dict['recs']])\n",
    "        category_top_sections[category]|=sections"
   ]
  },
  {
   "cell_type": "code",
   "execution_count": 10,
   "id": "quality-accounting",
   "metadata": {},
   "outputs": [],
   "source": [
    "for category in category_top_sections.keys():\n",
    "    category_top_sections[category]=list(category_top_sections[category])\n",
    "with open(\"../data/category_top_sections.json\",\"w+\") as f:\n",
    "    f.write(json.dumps(category_top_sections))"
   ]
  },
  {
   "cell_type": "code",
   "execution_count": null,
   "id": "focal-happiness",
   "metadata": {},
   "outputs": [],
   "source": []
  }
 ],
 "metadata": {
  "kernelspec": {
   "display_name": "Python 3.9.5 64-bit ('tm_venv')",
   "language": "python",
   "name": "python39564bittmvenv3226d3cd01364047aed0020f60ff15c7"
  },
  "language_info": {
   "codemirror_mode": {
    "name": "ipython",
    "version": 3
   },
   "file_extension": ".py",
   "mimetype": "text/x-python",
   "name": "python",
   "nbconvert_exporter": "python",
   "pygments_lexer": "ipython3",
   "version": "3.10.1"
  }
 },
 "nbformat": 4,
 "nbformat_minor": 5
}
