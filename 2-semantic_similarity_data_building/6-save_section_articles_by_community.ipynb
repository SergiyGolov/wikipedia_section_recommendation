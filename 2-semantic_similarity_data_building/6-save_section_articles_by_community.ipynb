{
 "cells": [
  {
   "cell_type": "code",
   "execution_count": 1,
   "id": "computational-richardson",
   "metadata": {},
   "outputs": [],
   "source": [
    "%run ../utils/common.py"
   ]
  },
  {
   "cell_type": "code",
   "execution_count": 2,
   "id": "informal-arizona",
   "metadata": {},
   "outputs": [],
   "source": [
    "processed_communities=get_processed_communities()"
   ]
  },
  {
   "cell_type": "code",
   "execution_count": 3,
   "id": "consolidated-alpha",
   "metadata": {},
   "outputs": [],
   "source": [
    "community_categories={}\n",
    "with open(\"../data/categories_splitted_into_communities.json\", \"r\") as f_in:\n",
    "    for line in f_in:\n",
    "        json_line=json.loads(line)\n",
    "        community_id=json_line['community_id']\n",
    "        if community_id not in processed_communities:\n",
    "            continue\n",
    "        categories=json_line['categories']\n",
    "        community_categories[community_id]=categories"
   ]
  },
  {
   "cell_type": "code",
   "execution_count": 6,
   "id": "oriented-increase",
   "metadata": {},
   "outputs": [],
   "source": [
    "article_sections=load_json(\"../data/article_sections_filtered.json\", object_hook=article_sections_object_hook)"
   ]
  },
  {
   "cell_type": "code",
   "execution_count": 7,
   "id": "disciplinary-string",
   "metadata": {},
   "outputs": [],
   "source": [
    "category_articles={}\n",
    "with open(\"../data/gini_articles_scores_0985_no_unknown_type.json\") as f:\n",
    "    for line in f:\n",
    "        line_dict = json.loads(line)\n",
    "        category = line_dict['category']\n",
    "        articles=[article for article in line_dict['articles'] if article in article_sections.keys()]\n",
    "        category_articles[category]=articles"
   ]
  },
  {
   "cell_type": "code",
   "execution_count": 8,
   "id": "floppy-algorithm",
   "metadata": {},
   "outputs": [
    {
     "data": {
      "application/vnd.jupyter.widget-view+json": {
       "model_id": "278a40662c5249d8848961e72c7d387f",
       "version_major": 2,
       "version_minor": 0
      },
      "text/plain": [
       "  0%|          | 0/7917 [00:00<?, ?it/s]"
      ]
     },
     "metadata": {},
     "output_type": "display_data"
    }
   ],
   "source": [
    "for community_id in tqdm(processed_communities):\n",
    "    id_section_map={}\n",
    "    with open(f\"../data/semantic_similarity/community_{community_id}/sentence_counter_by_section.json\", \"r\") as f_in:\n",
    "        for line in f_in:\n",
    "            json_line=json.loads(line)\n",
    "            \n",
    "            id_section_map[json_line['id']]=json_line['section']\n",
    "            \n",
    "    section_id_map={v:k for k,v in id_section_map.items()}\n",
    "            \n",
    "    categories=community_categories[community_id]\n",
    "    section_articles={}\n",
    "    for category in categories:\n",
    "        for article in category_articles[category]:\n",
    "            for section in article_sections[article]:\n",
    "                if section not in section_id_map.keys():\n",
    "                    continue\n",
    "                if section not in section_articles.keys():\n",
    "                    section_articles[section]=set()\n",
    "                section_articles[section].add(article)\n",
    "    \n",
    "    with open(f\"../data/semantic_similarity/community_{community_id}/section_articles.json\", \"a+\") as f_out:\n",
    "        for section,articles in section_articles.items():\n",
    "            f_out.write(json.dumps({'section':section,'articles':list(articles)})+\"\\n\")\n",
    "        "
   ]
  },
  {
   "cell_type": "code",
   "execution_count": null,
   "id": "stylish-photographer",
   "metadata": {},
   "outputs": [],
   "source": []
  }
 ],
 "metadata": {
  "kernelspec": {
   "display_name": "Python 3.9.5 64-bit ('tm_venv')",
   "language": "python",
   "name": "python39564bittmvenv3226d3cd01364047aed0020f60ff15c7"
  },
  "language_info": {
   "codemirror_mode": {
    "name": "ipython",
    "version": 3
   },
   "file_extension": ".py",
   "mimetype": "text/x-python",
   "name": "python",
   "nbconvert_exporter": "python",
   "pygments_lexer": "ipython3",
   "version": "3.10.1"
  }
 },
 "nbformat": 4,
 "nbformat_minor": 5
}
