{
 "cells": [
  {
   "cell_type": "code",
   "execution_count": 3,
   "id": "a5da3ba6",
   "metadata": {},
   "outputs": [],
   "source": [
    "def count_nb_articles(article_categories_file):\n",
    "    articles=set()\n",
    "    with open(article_categories_file) as f:\n",
    "        for line in f:\n",
    "            split_line = line.split()\n",
    "            article_id = int(split_line[0])\n",
    "            articles.add(article_id)\n",
    "            \n",
    "    return len(articles)"
   ]
  },
  {
   "cell_type": "code",
   "execution_count": 4,
   "id": "7dc2619e",
   "metadata": {},
   "outputs": [
    {
     "data": {
      "text/plain": [
       "3643496"
      ]
     },
     "execution_count": 4,
     "metadata": {},
     "output_type": "execute_result"
    }
   ],
   "source": [
    "count_nb_articles(\"../data/article_categories_filtered.tsv\")"
   ]
  },
  {
   "cell_type": "code",
   "execution_count": 5,
   "id": "fdb28465",
   "metadata": {},
   "outputs": [
    {
     "data": {
      "text/plain": [
       "2048191"
      ]
     },
     "execution_count": 5,
     "metadata": {},
     "output_type": "execute_result"
    }
   ],
   "source": [
    "count_nb_articles(\"../data/article_categories_no_unknown_types.tsv\")"
   ]
  },
  {
   "cell_type": "code",
   "execution_count": 6,
   "id": "e0a38e7b",
   "metadata": {},
   "outputs": [
    {
     "data": {
      "text/plain": [
       "0.5621499241387942"
      ]
     },
     "execution_count": 6,
     "metadata": {},
     "output_type": "execute_result"
    }
   ],
   "source": [
    "2048191/3643496"
   ]
  },
  {
   "cell_type": "code",
   "execution_count": null,
   "id": "3b330fe0",
   "metadata": {},
   "outputs": [],
   "source": []
  }
 ],
 "metadata": {
  "kernelspec": {
   "display_name": "Python 3.9.5 64-bit ('tm_venv')",
   "language": "python",
   "name": "python39564bittmvenv3226d3cd01364047aed0020f60ff15c7"
  },
  "language_info": {
   "codemirror_mode": {
    "name": "ipython",
    "version": 3
   },
   "file_extension": ".py",
   "mimetype": "text/x-python",
   "name": "python",
   "nbconvert_exporter": "python",
   "pygments_lexer": "ipython3",
   "version": "3.10.1"
  }
 },
 "nbformat": 4,
 "nbformat_minor": 5
}
