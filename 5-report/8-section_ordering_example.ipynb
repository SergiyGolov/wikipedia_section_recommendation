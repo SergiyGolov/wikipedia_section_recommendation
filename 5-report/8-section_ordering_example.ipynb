{
 "cells": [
  {
   "cell_type": "code",
   "execution_count": 1,
   "id": "38a9947f",
   "metadata": {},
   "outputs": [],
   "source": [
    "%run ../utils/eval.py"
   ]
  },
  {
   "cell_type": "code",
   "execution_count": 2,
   "id": "6625e581",
   "metadata": {},
   "outputs": [],
   "source": [
    "#http://127.0.0.1:5000/recommend_page?categories=47169846&semantic_filtering_level=0&k=11\n",
    "recs_after_ordering=\"\"\"Calendar\n",
    "Format\n",
    "First round\n",
    "Second round\n",
    "Third round\n",
    "Fourth round\n",
    "Fifth round\n",
    "Quarter-finals\n",
    "Semi-finals\n",
    "Final\n",
    "Statistics\"\"\".split(\"\\n\")"
   ]
  },
  {
   "cell_type": "code",
   "execution_count": 3,
   "id": "c50bbcf2",
   "metadata": {},
   "outputs": [],
   "source": [
    "#results/gini_threshold-0985_no_unknown_types/recs_by_category_top30.json file, line 29143\n",
    "#{\"category\": \"2015–16_in_Scottish_football_cups\", \"recs\": [{\"section\": \"First round\", \"probability\": 0.8}, {\"section\": \"Second round\", \"probability\": 0.8}, {\"section\": \"Third round\", \"probability\": 0.8}, {\"section\": \"Final\", \"probability\": 0.8}, {\"section\": \"Fourth round\", \"probability\": 0.6000000000000001}, {\"section\": \"Quarter-finals\", \"probability\": 0.6000000000000001}, {\"section\": \"Semi-finals\", \"probability\": 0.6000000000000001}, {\"section\": \"Fifth round\", \"probability\": 0.4}, {\"section\": \"Calendar\", \"probability\": 0.4}, {\"section\": \"Statistics\", \"probability\": 0.4}, {\"section\": \"Format\", \"probability\": 0.4}, {\"section\": \"Media coverage\", \"probability\": 0.2}, {\"section\": \"Preliminary rounds\", \"probability\": 0.2}, {\"section\": \"Route to the final\", \"probability\": 0.2}, {\"section\": \"Match\", \"probability\": 0.2}, {\"section\": \"Qualified teams\", \"probability\": 0.2}, {\"section\": \"Quarter-Finals\", \"probability\": 0.2}, {\"section\": \"Semi-Finals\", \"probability\": 0.2}]}\n",
    "\n",
    "recs_before_ordering=\"\"\"First round\n",
    "Second round\n",
    "Third round\n",
    "Final\n",
    "Fourth round\n",
    "Quarter-finals\n",
    "Semi-finals\n",
    "Statistics\n",
    "Fifth round\n",
    "Calendar\n",
    "Format\"\"\".split(\"\\n\")"
   ]
  },
  {
   "cell_type": "code",
   "execution_count": 4,
   "id": "b3ee0788",
   "metadata": {},
   "outputs": [],
   "source": [
    "ground_truth=load_json(\"../data/article_sections_filtered.json\", object_hook=article_sections_object_hook)[48375733]"
   ]
  },
  {
   "cell_type": "code",
   "execution_count": 5,
   "id": "e912c655",
   "metadata": {},
   "outputs": [
    {
     "data": {
      "text/plain": [
       "['Calendar',\n",
       " 'Format',\n",
       " 'First round',\n",
       " 'Second round',\n",
       " 'Third round',\n",
       " 'Fourth round',\n",
       " 'Quarter-finals',\n",
       " 'Semi-finals',\n",
       " 'Final']"
      ]
     },
     "execution_count": 5,
     "metadata": {},
     "output_type": "execute_result"
    }
   ],
   "source": [
    "ground_truth"
   ]
  },
  {
   "cell_type": "code",
   "execution_count": 6,
   "id": "bf57fc51",
   "metadata": {},
   "outputs": [
    {
     "data": {
      "text/plain": [
       "0.05555555555555555"
      ]
     },
     "execution_count": 6,
     "metadata": {},
     "output_type": "execute_result"
    }
   ],
   "source": [
    "kendall_tau(ground_truth,recs_before_ordering)"
   ]
  },
  {
   "cell_type": "code",
   "execution_count": 7,
   "id": "d1f9c1c1",
   "metadata": {},
   "outputs": [
    {
     "data": {
      "text/plain": [
       "1.0"
      ]
     },
     "execution_count": 7,
     "metadata": {},
     "output_type": "execute_result"
    }
   ],
   "source": [
    "kendall_tau(ground_truth,recs_after_ordering)"
   ]
  },
  {
   "cell_type": "code",
   "execution_count": null,
   "id": "db7b2bbd",
   "metadata": {},
   "outputs": [],
   "source": []
  }
 ],
 "metadata": {
  "kernelspec": {
   "display_name": "tm_venv",
   "language": "python",
   "name": "tm_venv"
  },
  "language_info": {
   "codemirror_mode": {
    "name": "ipython",
    "version": 3
   },
   "file_extension": ".py",
   "mimetype": "text/x-python",
   "name": "python",
   "nbconvert_exporter": "python",
   "pygments_lexer": "ipython3",
   "version": "3.10.1"
  }
 },
 "nbformat": 4,
 "nbformat_minor": 5
}
