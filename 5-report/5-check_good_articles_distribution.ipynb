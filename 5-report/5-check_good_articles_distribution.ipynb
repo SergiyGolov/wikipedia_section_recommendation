{
 "cells": [
  {
   "cell_type": "code",
   "execution_count": 1,
   "id": "e5ba60f0",
   "metadata": {},
   "outputs": [],
   "source": [
    "%run ../utils/dataset_building.py"
   ]
  },
  {
   "cell_type": "code",
   "execution_count": 2,
   "id": "b229f66c",
   "metadata": {},
   "outputs": [
    {
     "name": "stdout",
     "output_type": "stream",
     "text": [
      "Connection to MySQL DB successful\n"
     ]
    }
   ],
   "source": [
    "# the connection variables are defined in util-dataset_building.py\n",
    "connection = create_mysql_connection(MYSQL_SERVER, MYSQL_USER, MYSQL_PASSWORD, MYSQL_DB)"
   ]
  },
  {
   "cell_type": "code",
   "execution_count": 3,
   "id": "2a7a4022",
   "metadata": {},
   "outputs": [],
   "source": [
    "select = 'select cl_from from categorylinks where cl_to=\"Wikipedia_good_articles\"'\n",
    "result = execute_read_query(connection, select)"
   ]
  },
  {
   "cell_type": "code",
   "execution_count": 4,
   "id": "d1a82cc3",
   "metadata": {},
   "outputs": [],
   "source": [
    "good_article_talk_page_ids=[x[0] for x in result]"
   ]
  },
  {
   "cell_type": "code",
   "execution_count": 8,
   "id": "18c16055",
   "metadata": {},
   "outputs": [],
   "source": [
    "good_article_titles=[]"
   ]
  },
  {
   "cell_type": "code",
   "execution_count": 9,
   "id": "56b1776f",
   "metadata": {},
   "outputs": [],
   "source": [
    "for i in good_article_talk_page_ids:\n",
    "    select = f\"select page_title from page where page_id={i}\"\n",
    "    result = execute_read_query(connection, select)\n",
    "    good_article_titles.append(result[0])"
   ]
  },
  {
   "cell_type": "code",
   "execution_count": 10,
   "id": "1d23ab1e",
   "metadata": {},
   "outputs": [],
   "source": [
    "good_article_titles=[x[0].decode() for x in good_article_titles]"
   ]
  },
  {
   "cell_type": "code",
   "execution_count": 11,
   "id": "64bef5d3",
   "metadata": {},
   "outputs": [],
   "source": [
    "good_article_titles=set(good_article_titles)"
   ]
  },
  {
   "cell_type": "code",
   "execution_count": 12,
   "id": "0b69bb02",
   "metadata": {},
   "outputs": [],
   "source": [
    "article_id_titles_tuple_list=read_tuple_list_from_file((int,str),\"../data/article_ids_titles.tsv\")"
   ]
  },
  {
   "cell_type": "code",
   "execution_count": 13,
   "id": "78a945dd",
   "metadata": {},
   "outputs": [
    {
     "data": {
      "text/plain": [
       "0.00532870432559115"
      ]
     },
     "execution_count": 13,
     "metadata": {},
     "output_type": "execute_result"
    }
   ],
   "source": [
    "len(good_article_titles)/len(article_id_titles_tuple_list)"
   ]
  },
  {
   "cell_type": "code",
   "execution_count": 57,
   "id": "3437ce30",
   "metadata": {},
   "outputs": [],
   "source": [
    "good_article_ids=set()\n",
    "for i,title in article_id_titles_tuple_list:\n",
    "    if title in good_article_titles:\n",
    "        good_article_ids.add(i)"
   ]
  },
  {
   "cell_type": "code",
   "execution_count": 2,
   "id": "04fde2d6",
   "metadata": {},
   "outputs": [],
   "source": [
    "from collections import Counter\n",
    "good_articles_section_length_counter=Counter()\n",
    "section_length_counter=Counter()"
   ]
  },
  {
   "cell_type": "code",
   "execution_count": null,
   "id": "5137335d",
   "metadata": {},
   "outputs": [],
   "source": [
    "with open(\"../data/article_sections.json\", \"r\") as file:\n",
    "    for line in file:\n",
    "        json_line=json.loads(line)\n",
    "        if len(json_line['sections'])>=16:\n",
    "            continue\n",
    "        if json_line['article_id'] in good_article_ids:\n",
    "            good_articles_section_length_counter[len(json_line['sections'])]+=1\n",
    "        else:\n",
    "            section_length_counter[len(json_line['sections'])]+=1"
   ]
  },
  {
   "cell_type": "code",
   "execution_count": 82,
   "id": "866eb2f8",
   "metadata": {},
   "outputs": [
    {
     "data": {
      "image/png": "[encoded data removed]",
      "text/plain": [
       "<Figure size 864x432 with 1 Axes>"
      ]
     },
     "metadata": {
      "needs_background": "light"
     },
     "output_type": "display_data"
    }
   ],
   "source": [
    "import matplotlib.pyplot as plt\n",
    "from matplotlib.pyplot import figure\n",
    "\n",
    "fig=figure(figsize=(12,6))\n",
    "\n",
    "total=sum(list(section_length_counter.values()))\n",
    "mean_nb_sections=sum([length*count for length,count in section_length_counter.items()])/total\n",
    "total_good_articles=sum(list(good_articles_section_length_counter.values()))\n",
    "mean_nb_sections_good_quality=sum([length*count for length,count in good_articles_section_length_counter.items()])/total_good_articles\n",
    "plt.bar([x+0.25 for x in section_length_counter.keys()],[y/total for y in section_length_counter.values()],color=\"orange\",width=0.45)\n",
    "plt.bar([x+0.75 for x in good_articles_section_length_counter.keys()],[y/total_good_articles for y in good_articles_section_length_counter.values()],color=\"blue\",width=0.45)\n",
    "plt.xlabel(\"Number of sections by article\")\n",
    "plt.xticks(list(range(0,17)))\n",
    "plt.ylabel(\"Normalized frequency\")\n",
    "plt.legend([\"Articles used in dataset\",'Articles used in dataset marked as good quality'])\n",
    "plt.show()"
   ]
  },
  {
   "cell_type": "code",
   "execution_count": 73,
   "id": "72ab826d",
   "metadata": {},
   "outputs": [
    {
     "data": {
      "text/plain": [
       "7.319837049476009"
      ]
     },
     "execution_count": 73,
     "metadata": {},
     "output_type": "execute_result"
    }
   ],
   "source": [
    "mean_nb_sections_good_quality"
   ]
  },
  {
   "cell_type": "code",
   "execution_count": 74,
   "id": "dcfb87e9",
   "metadata": {},
   "outputs": [
    {
     "data": {
      "text/plain": [
       "4.625982674098071"
      ]
     },
     "execution_count": 74,
     "metadata": {},
     "output_type": "execute_result"
    }
   ],
   "source": [
    "#it's higher compared to 2017 because we have removed stubs, whereas in 2017 paper they've likely included stubs\n",
    "mean_nb_sections"
   ]
  },
  {
   "cell_type": "code",
   "execution_count": null,
   "id": "fcd0f7ae",
   "metadata": {},
   "outputs": [],
   "source": []
  }
 ],
 "metadata": {
  "kernelspec": {
   "display_name": "tm_venv",
   "language": "python",
   "name": "tm_venv"
  },
  "language_info": {
   "codemirror_mode": {
    "name": "ipython",
    "version": 3
   },
   "file_extension": ".py",
   "mimetype": "text/x-python",
   "name": "python",
   "nbconvert_exporter": "python",
   "pygments_lexer": "ipython3",
   "version": "3.10.1"
  }
 },
 "nbformat": 4,
 "nbformat_minor": 5
}
