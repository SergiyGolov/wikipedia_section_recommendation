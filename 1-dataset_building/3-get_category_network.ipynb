{
 "cells": [
  {
   "cell_type": "code",
   "execution_count": 1,
   "id": "amazing-element",
   "metadata": {},
   "outputs": [],
   "source": [
    "%run ../utils/dataset_building.py"
   ]
  },
  {
   "cell_type": "code",
   "execution_count": 2,
   "id": "mobile-piano",
   "metadata": {},
   "outputs": [
    {
     "name": "stdout",
     "output_type": "stream",
     "text": [
      "Connection to MySQL DB successful\n"
     ]
    }
   ],
   "source": [
    "#the connection variables are defined in ../utils/dataset_building.py\n",
    "connection = create_mysql_connection(MYSQL_SERVER, MYSQL_USER, MYSQL_PASSWORD, MYSQL_DB)"
   ]
  },
  {
   "cell_type": "code",
   "execution_count": 3,
   "id": "annual-operations",
   "metadata": {},
   "outputs": [],
   "source": [
    "category_ids_titles=read_tuple_list_from_file((int,str),\"../data/category_ids_titles.tsv\")"
   ]
  },
  {
   "cell_type": "code",
   "execution_count": 4,
   "id": "incomplete-washer",
   "metadata": {},
   "outputs": [
    {
     "data": {
      "application/vnd.jupyter.widget-view+json": {
       "model_id": "59e31afef0884f749a4218439121408b",
       "version_major": 2,
       "version_minor": 0
      },
      "text/plain": [
       "  0%|          | 0/2053919 [00:00<?, ?it/s]"
      ]
     },
     "metadata": {},
     "output_type": "display_data"
    }
   ],
   "source": [
    "# list of tuples: (category title, parent category title)\n",
    "category_graph=[]\n",
    "\n",
    "for category_id,category_from_title in tqdm(category_ids_titles):\n",
    "    select = f\"select cl_to from categorylinks where cl_from={category_id}\"\n",
    "    result = execute_read_query(connection, select)\n",
    "    \n",
    "    # result is a list of 1-sized tuples\n",
    "    categories = [tup[0] for tup in result]\n",
    "    \n",
    "    for category_to_title in categories:\n",
    "        # this 2-sized tuple is excepted as input for the WCNPruning program\n",
    "        category_graph.append((category_from_title,category_to_title))"
   ]
  },
  {
   "cell_type": "code",
   "execution_count": 5,
   "id": "integrated-playlist",
   "metadata": {},
   "outputs": [],
   "source": [
    "write_tuple_list_to_file(category_graph,\"../data/category_graph.tsv\")"
   ]
  }
 ],
 "metadata": {
  "kernelspec": {
   "display_name": "tm_venv",
   "language": "python",
   "name": "tm_venv"
  },
  "language_info": {
   "codemirror_mode": {
    "name": "ipython",
    "version": 3
   },
   "file_extension": ".py",
   "mimetype": "text/x-python",
   "name": "python",
   "nbconvert_exporter": "python",
   "pygments_lexer": "ipython3",
   "version": "3.10.1"
  }
 },
 "nbformat": 4,
 "nbformat_minor": 5
}
