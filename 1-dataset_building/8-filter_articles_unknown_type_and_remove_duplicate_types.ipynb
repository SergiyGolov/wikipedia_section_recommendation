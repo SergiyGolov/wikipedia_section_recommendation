{
 "cells": [
  {
   "cell_type": "code",
   "execution_count": 1,
   "id": "infectious-craft",
   "metadata": {},
   "outputs": [],
   "source": [
    "%run ../utils/dataset_building.py"
   ]
  },
  {
   "cell_type": "code",
   "execution_count": 2,
   "id": "hungarian-meditation",
   "metadata": {},
   "outputs": [],
   "source": [
    "articles_categories_file=\"../data/article_categories_filtered.tsv\"\n",
    "articles_types_file=\"../data/article_types.tsv\"\n",
    "\n",
    "articles_categories_file_out=\"../data/article_categories_no_unknown_types.tsv\"\n",
    "articles_types_file_out=\"../data/article_types_no_duplicates.tsv\""
   ]
  },
  {
   "cell_type": "code",
   "execution_count": 3,
   "id": "lovely-senator",
   "metadata": {},
   "outputs": [],
   "source": [
    "articles_with_type=set()\n",
    "with open(articles_types_file) as f:\n",
    "    for line in f:\n",
    "        article_id=int(line.split()[0])\n",
    "        articles_with_type.add(article_id)"
   ]
  },
  {
   "cell_type": "code",
   "execution_count": 4,
   "id": "still-trial",
   "metadata": {},
   "outputs": [
    {
     "data": {
      "text/plain": [
       "3615539"
      ]
     },
     "execution_count": 4,
     "metadata": {},
     "output_type": "execute_result"
    }
   ],
   "source": [
    "len(articles_with_type)"
   ]
  },
  {
   "cell_type": "code",
   "execution_count": 5,
   "id": "incomplete-edmonton",
   "metadata": {},
   "outputs": [],
   "source": [
    "article_categories_no_unknown_types=[]\n",
    "with open(articles_categories_file) as f:\n",
    "    for line in f:\n",
    "        split_line=line.split()\n",
    "        article_id=int(split_line[0])\n",
    "        title=split_line[1]\n",
    "        category=split_line[2]\n",
    "        if article_id in articles_with_type:\n",
    "            article_categories_no_unknown_types.append((article_id,title,category))"
   ]
  },
  {
   "cell_type": "code",
   "execution_count": 6,
   "id": "corporate-motion",
   "metadata": {},
   "outputs": [],
   "source": [
    "write_tuple_list_to_file(article_categories_no_unknown_types,articles_categories_file_out)"
   ]
  },
  {
   "cell_type": "code",
   "execution_count": 7,
   "id": "ordinary-wisdom",
   "metadata": {},
   "outputs": [],
   "source": [
    "article_types_no_duplicates=[]\n",
    "already_checked=set()\n",
    "#there were some articles that had multiple types, therefore we keep only one for each\n",
    "# (the first encountered type by iterating line by line on file)\n",
    "with open(articles_types_file) as f:\n",
    "    for line in f:\n",
    "        split_line=line.split()\n",
    "        article_id=int(split_line[0])\n",
    "        article_type=split_line[1]\n",
    "        if article_id not in already_checked:\n",
    "            article_types_no_duplicates.append((article_id,article_type))\n",
    "            already_checked.add(article_id)"
   ]
  },
  {
   "cell_type": "code",
   "execution_count": 8,
   "id": "valued-license",
   "metadata": {},
   "outputs": [],
   "source": [
    "write_tuple_list_to_file(article_types_no_duplicates,articles_types_file_out)"
   ]
  }
 ],
 "metadata": {
  "kernelspec": {
   "display_name": "tm_venv",
   "language": "python",
   "name": "tm_venv"
  },
  "language_info": {
   "codemirror_mode": {
    "name": "ipython",
    "version": 3
   },
   "file_extension": ".py",
   "mimetype": "text/x-python",
   "name": "python",
   "nbconvert_exporter": "python",
   "pygments_lexer": "ipython3",
   "version": "3.10.1"
  }
 },
 "nbformat": 4,
 "nbformat_minor": 5
}
