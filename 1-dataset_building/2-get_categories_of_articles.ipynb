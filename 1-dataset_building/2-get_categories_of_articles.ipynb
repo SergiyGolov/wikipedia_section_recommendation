{
 "cells": [
  {
   "cell_type": "code",
   "execution_count": 1,
   "id": "similar-lottery",
   "metadata": {},
   "outputs": [],
   "source": [
    "%run ../utils/dataset_building.py"
   ]
  },
  {
   "cell_type": "code",
   "execution_count": 2,
   "id": "following-front",
   "metadata": {},
   "outputs": [
    {
     "name": "stdout",
     "output_type": "stream",
     "text": [
      "Connection to MySQL DB successful\n"
     ]
    }
   ],
   "source": [
    "# the connection variables are defined in ../utils/dataset_building.py\n",
    "connection = create_mysql_connection(MYSQL_SERVER, MYSQL_USER, MYSQL_PASSWORD, MYSQL_DB)"
   ]
  },
  {
   "cell_type": "code",
   "execution_count": 3,
   "id": "generous-premiere",
   "metadata": {},
   "outputs": [],
   "source": [
    "# get category ids and category titles which are in namespace 14\n",
    "select = f\"select page_id, page_title from page where page_namespace=14\"\n",
    "category_ids_titles = execute_read_query(connection, select)"
   ]
  },
  {
   "cell_type": "code",
   "execution_count": 4,
   "id": "handy-corps",
   "metadata": {},
   "outputs": [],
   "source": [
    "write_tuple_list_to_file(category_ids_titles,\"../data/category_ids_titles.tsv\")"
   ]
  },
  {
   "cell_type": "code",
   "execution_count": 5,
   "id": "crucial-graham",
   "metadata": {},
   "outputs": [],
   "source": [
    "del category_ids_titles"
   ]
  },
  {
   "cell_type": "code",
   "execution_count": 6,
   "id": "stuck-insider",
   "metadata": {},
   "outputs": [],
   "source": [
    "article_ids_titles=read_tuple_list_from_file((int,str),\"../data/article_ids_titles.tsv\")"
   ]
  },
  {
   "cell_type": "code",
   "execution_count": 7,
   "id": "fitted-rings",
   "metadata": {},
   "outputs": [
    {
     "data": {
      "application/vnd.jupyter.widget-view+json": {
       "model_id": "7103512eb1ae4facb35af36feb7de05f",
       "version_major": 2,
       "version_minor": 0
      },
      "text/plain": [
       "  0%|          | 0/6260809 [00:00<?, ?it/s]"
      ]
     },
     "metadata": {},
     "output_type": "display_data"
    }
   ],
   "source": [
    "article_categories=[]\n",
    "for article_id,article_title in tqdm(article_ids_titles):\n",
    "    select = f\"select cl_to from categorylinks where cl_from={article_id}\"\n",
    "    result = execute_read_query(connection, select)\n",
    "    \n",
    "    # result is a list of 1-sized tuples\n",
    "    categories = [tup[0] for tup in result]\n",
    "    \n",
    "    for category_title in categories:\n",
    "        # this 3-sized tuple is excepted as input for the WCNPruning program\n",
    "        article_categories.append((article_id,article_title,category_title))"
   ]
  },
  {
   "cell_type": "code",
   "execution_count": 8,
   "id": "civil-method",
   "metadata": {},
   "outputs": [],
   "source": [
    "write_tuple_list_to_file(article_categories,\"../data/article_categories.tsv\")"
   ]
  }
 ],
 "metadata": {
  "kernelspec": {
   "display_name": "tm_venv",
   "language": "python",
   "name": "tm_venv"
  },
  "language_info": {
   "codemirror_mode": {
    "name": "ipython",
    "version": 3
   },
   "file_extension": ".py",
   "mimetype": "text/x-python",
   "name": "python",
   "nbconvert_exporter": "python",
   "pygments_lexer": "ipython3",
   "version": "3.10.1"
  }
 },
 "nbformat": 4,
 "nbformat_minor": 5
}
