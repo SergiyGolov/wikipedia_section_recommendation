{
 "cells": [
  {
   "cell_type": "code",
   "execution_count": 10,
   "id": "handled-eclipse",
   "metadata": {},
   "outputs": [],
   "source": [
    "%run ../utils/dataset_building.py"
   ]
  },
  {
   "cell_type": "code",
   "execution_count": 11,
   "id": "basic-response",
   "metadata": {},
   "outputs": [],
   "source": [
    "category_graph_file=\"../data/category_graph.tsv\"\n",
    "article_categories_file=\"../data/article_categories.tsv\""
   ]
  },
  {
   "cell_type": "code",
   "execution_count": 12,
   "id": "indonesian-nudist",
   "metadata": {},
   "outputs": [],
   "source": [
    "# key: parent category title, value: set of child categories\n",
    "parent_children={}\n",
    "\n",
    "with open(category_graph_file) as f:\n",
    "    for line in f:\n",
    "        split_line=line.split()\n",
    "        node=split_line[0]\n",
    "        parent_node=split_line[1]\n",
    "\n",
    "        if parent_node not in parent_children.keys():\n",
    "            parent_children[parent_node]=set()\n",
    "            \n",
    "        parent_children[parent_node].add(node)"
   ]
  },
  {
   "cell_type": "code",
   "execution_count": 13,
   "id": "prepared-proportion",
   "metadata": {},
   "outputs": [],
   "source": [
    "def get_all_children(category):\n",
    "    # returns the set of categories which are in the subtree of a given category\n",
    "    \n",
    "    # nodes that might have children that we'll need to get\n",
    "    nodes_to_check=set(parent_children[category])\n",
    "    # nodes that we already got\n",
    "    checked_nodes=set()\n",
    "    \n",
    "    # the idea is to traverse the graph from a given category down to the leaves and get\n",
    "    # all encountered categories while traversing\n",
    "    while len(nodes_to_check)>0:\n",
    "        new_nodes_to_check=set()\n",
    "        for node in nodes_to_check:\n",
    "            checked_nodes.add(node)\n",
    "            if node in parent_children.keys():\n",
    "                for child in parent_children[node]:\n",
    "                    new_nodes_to_check.add(child)\n",
    "        \n",
    "        for node in new_nodes_to_check:\n",
    "            nodes_to_check.add(node)\n",
    "            \n",
    "        for node in checked_nodes:\n",
    "            if node in nodes_to_check:\n",
    "                nodes_to_check.remove(node)\n",
    "                \n",
    "    return checked_nodes"
   ]
  },
  {
   "cell_type": "code",
   "execution_count": 14,
   "id": "brave-calibration",
   "metadata": {},
   "outputs": [],
   "source": [
    "# the goal is to remove categories such as \"Articles with French-language external links\"\n",
    "# which are used only internally for wikipedia maintenance\n",
    "categories_to_keep=get_all_children(\"Main_topic_classifications\")"
   ]
  },
  {
   "cell_type": "code",
   "execution_count": 15,
   "id": "preliminary-replication",
   "metadata": {},
   "outputs": [],
   "source": [
    "categories_to_keep.add(\"Main_topic_classifications\")"
   ]
  },
  {
   "cell_type": "code",
   "execution_count": 21,
   "id": "union-setup",
   "metadata": {},
   "outputs": [],
   "source": [
    "nb_categories_before_filtering=len(set(parent_children.keys()).union(*parent_children.values()))"
   ]
  },
  {
   "cell_type": "code",
   "execution_count": 22,
   "id": "overhead-worthy",
   "metadata": {},
   "outputs": [
    {
     "data": {
      "text/plain": [
       "2053941"
      ]
     },
     "execution_count": 22,
     "metadata": {},
     "output_type": "execute_result"
    }
   ],
   "source": [
    "# number of categories before any filtering\n",
    "nb_categories_before_filtering"
   ]
  },
  {
   "cell_type": "code",
   "execution_count": 23,
   "id": "alternate-syria",
   "metadata": {},
   "outputs": [
    {
     "data": {
      "text/plain": [
       "306238"
      ]
     },
     "execution_count": 23,
     "metadata": {},
     "output_type": "execute_result"
    }
   ],
   "source": [
    "# number of wikipedia maintenance categories\n",
    "nb_categories_before_filtering-len(categories_to_keep)"
   ]
  },
  {
   "cell_type": "code",
   "execution_count": 16,
   "id": "returning-tooth",
   "metadata": {},
   "outputs": [
    {
     "data": {
      "text/plain": [
       "1765286"
      ]
     },
     "execution_count": 16,
     "metadata": {},
     "output_type": "execute_result"
    }
   ],
   "source": [
    "# number of categories after removing wikipedia maintenance categories\n",
    "len(categories_to_keep)"
   ]
  },
  {
   "cell_type": "code",
   "execution_count": 24,
   "id": "chemical-maldives",
   "metadata": {},
   "outputs": [
    {
     "data": {
      "text/plain": [
       "0.14909775889375596"
      ]
     },
     "execution_count": 24,
     "metadata": {},
     "output_type": "execute_result"
    }
   ],
   "source": [
    "# proportion of maintenance categories\n",
    "(nb_categories_before_filtering-len(categories_to_keep))/nb_categories_before_filtering"
   ]
  },
  {
   "cell_type": "code",
   "execution_count": 17,
   "id": "finite-harbor",
   "metadata": {},
   "outputs": [],
   "source": [
    "# remove categories marked as stubs\n",
    "stub_categories=set([category for category in categories_to_keep if \"stubs\" in category.lower()])\n",
    "categories_to_keep-=stub_categories"
   ]
  },
  {
   "cell_type": "code",
   "execution_count": 20,
   "id": "leading-motorcycle",
   "metadata": {},
   "outputs": [
    {
     "data": {
      "text/plain": [
       "17583"
      ]
     },
     "execution_count": 20,
     "metadata": {},
     "output_type": "execute_result"
    }
   ],
   "source": [
    "# number of stub categories\n",
    "len(stub_categories)"
   ]
  },
  {
   "cell_type": "code",
   "execution_count": 19,
   "id": "italian-advocacy",
   "metadata": {},
   "outputs": [
    {
     "data": {
      "text/plain": [
       "1747703"
      ]
     },
     "execution_count": 19,
     "metadata": {},
     "output_type": "execute_result"
    }
   ],
   "source": [
    "# remaining number of categories\n",
    "len(categories_to_keep)"
   ]
  },
  {
   "cell_type": "code",
   "execution_count": 25,
   "id": "bright-pottery",
   "metadata": {},
   "outputs": [
    {
     "data": {
      "text/plain": [
       "0.008560615908636129"
      ]
     },
     "execution_count": 25,
     "metadata": {},
     "output_type": "execute_result"
    }
   ],
   "source": [
    "# proportion of stub categories\n",
    "len(stub_categories)/nb_categories_before_filtering"
   ]
  },
  {
   "cell_type": "code",
   "execution_count": 8,
   "id": "abstract-student",
   "metadata": {},
   "outputs": [],
   "source": [
    "category_graph_filtered=[]\n",
    "with open(category_graph_file) as f:\n",
    "    for line in f:\n",
    "        split=line.split()\n",
    "        category=split[0]\n",
    "        parent_category=split[1]\n",
    "        if category in categories_to_keep and parent_category in categories_to_keep:\n",
    "            category_graph_filtered.append((category,parent_category))"
   ]
  },
  {
   "cell_type": "code",
   "execution_count": 9,
   "id": "individual-process",
   "metadata": {},
   "outputs": [],
   "source": [
    "write_tuple_list_to_file(category_graph_filtered,\"../data/category_graph_filtered.tsv\")"
   ]
  },
  {
   "cell_type": "code",
   "execution_count": 10,
   "id": "tested-summary",
   "metadata": {},
   "outputs": [],
   "source": [
    "del category_graph_filtered"
   ]
  },
  {
   "cell_type": "code",
   "execution_count": 11,
   "id": "honest-springfield",
   "metadata": {},
   "outputs": [],
   "source": [
    "# detect articles flagged as stubs\n",
    "stub_articles=set()\n",
    "with open(article_categories_file) as f:\n",
    "    for line in f:\n",
    "        split_line=line.strip().split()\n",
    "        \n",
    "        category=split_line[2]\n",
    "        if \"stubs\" in category.lower():\n",
    "            article_id=int(split_line[0])\n",
    "            stub_articles.add(article_id)"
   ]
  },
  {
   "cell_type": "code",
   "execution_count": 12,
   "id": "featured-train",
   "metadata": {},
   "outputs": [],
   "source": [
    "# we also only keep articles in the article_categories file which belong to categories that\n",
    "# are in the subtree of \"Main topic classifications\" and are not marked as stubs\n",
    "article_categories_filtered=[]\n",
    "\n",
    "with open(article_categories_file) as f:\n",
    "    for line in f:\n",
    "        split_line=line.strip().split()\n",
    "        \n",
    "        category=split_line[2]\n",
    "        if category not in categories_to_keep:\n",
    "            continue\n",
    "            \n",
    "        article_id=int(split_line[0])\n",
    "        if article_id in stub_articles:\n",
    "            continue\n",
    "        \n",
    "        article_title=split_line[1]\n",
    "\n",
    "        article_categories_filtered.append((article_id,article_title,category))"
   ]
  },
  {
   "cell_type": "code",
   "execution_count": 13,
   "id": "victorian-twist",
   "metadata": {},
   "outputs": [],
   "source": [
    "write_tuple_list_to_file(article_categories_filtered,\"../data/article_categories_filtered.tsv\")"
   ]
  },
  {
   "cell_type": "code",
   "execution_count": null,
   "id": "abroad-tolerance",
   "metadata": {},
   "outputs": [],
   "source": []
  }
 ],
 "metadata": {
  "kernelspec": {
   "display_name": "tm_venv",
   "language": "python",
   "name": "tm_venv"
  },
  "language_info": {
   "codemirror_mode": {
    "name": "ipython",
    "version": 3
   },
   "file_extension": ".py",
   "mimetype": "text/x-python",
   "name": "python",
   "nbconvert_exporter": "python",
   "pygments_lexer": "ipython3",
   "version": "3.10.1"
  }
 },
 "nbformat": 4,
 "nbformat_minor": 5
}
