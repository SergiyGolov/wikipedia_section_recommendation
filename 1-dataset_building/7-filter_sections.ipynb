{
 "cells": [
  {
   "cell_type": "code",
   "execution_count": 1,
   "id": "loose-forward",
   "metadata": {},
   "outputs": [],
   "source": [
    "%run ../utils/dataset_building.py"
   ]
  },
  {
   "cell_type": "code",
   "execution_count": null,
   "id": "d7c90dfd",
   "metadata": {},
   "outputs": [],
   "source": [
    "# change it to True if you want to extract the sections from the 2017 dump in order to reproduce\n",
    "# results from 2017 paper by computing category section counts instead of using the provided ones\n",
    "reproducion_2017=False"
   ]
  },
  {
   "cell_type": "code",
   "execution_count": 2,
   "id": "substantial-wisconsin",
   "metadata": {},
   "outputs": [],
   "source": [
    "from collections import Counter"
   ]
  },
  {
   "cell_type": "code",
   "execution_count": 3,
   "id": "understanding-syndicate",
   "metadata": {},
   "outputs": [],
   "source": [
    "article_sections_filename=\"../data/article_sections.json\""
   ]
  },
  {
   "cell_type": "code",
   "execution_count": 10,
   "id": "relative-department",
   "metadata": {},
   "outputs": [],
   "source": [
    "def filter_sections(article_sections_filename):\n",
    "    # a list of 13 sections which are too broad for recommendation, defined in the original paper\n",
    "    sections_to_ignore=[\"References\",\"External links\", \"See also\",\"Notes\",\"Further reading\",\"Bibliography\",\"Sources\",\"Footnotes\",\"Notes and references\",\"References and notes\",\"External sources\",\"Links\",\"References and sources\"]\n",
    "    sections_to_ignore=set(sections_to_ignore)\n",
    "    article_sections=load_all_article_sections(article_sections_filename)\n",
    "    section_counter=Counter()\n",
    "    \n",
    "    for article,sections in article_sections.items():\n",
    "        for section in sections:\n",
    "            section_counter[section]+=1\n",
    "            \n",
    "    unique_sections=[section for section,count in section_counter.items() if count==1]\n",
    "    unique_sections=set(unique_sections)\n",
    "    print(f\"Number of unique sections: {len(unique_sections)}\")\n",
    "    print(f\"Proportion of sections that were used in only one article: {len(unique_sections)/len(section_counter)}\")\n",
    "    print(f\"Number of remaining different sections: {len(section_counter)-len(unique_sections)}\")\n",
    "    articles_with_0_sections=[]\n",
    "    for article_id,sections in article_sections.items():\n",
    "        article_sections[article_id]=[section for section in sections if section not in unique_sections and section not in sections_to_ignore]\n",
    "        if len(article_sections[article_id])==0:\n",
    "            articles_with_0_sections.append(article_id)\n",
    "    \n",
    "    print(f\"Number of articles which had 0 sections after filtering sections: {len(articles_with_0_sections)}\")\n",
    "    print(f\"Proportion of articles that had no sections left after filtering: {len(articles_with_0_sections)/len(article_sections)}\")\n",
    "    for article_id in articles_with_0_sections:\n",
    "        del article_sections[article_id]\n",
    "    \n",
    "    print(f\"Number of articles after filtering: {len(article_sections)}\")\n",
    "    dump_json(article_sections,article_sections_filename.split(\".json\")[0]+\"_filtered.json\")"
   ]
  },
  {
   "cell_type": "code",
   "execution_count": 8,
   "id": "dramatic-shade",
   "metadata": {},
   "outputs": [
    {
     "data": {
      "text/plain": [
       "1425477"
      ]
     },
     "execution_count": 8,
     "metadata": {},
     "output_type": "execute_result"
    }
   ],
   "source": [
    "# number of unique sections\n",
    "len(unique_sections)"
   ]
  },
  {
   "cell_type": "code",
   "execution_count": 9,
   "id": "scenic-information",
   "metadata": {},
   "outputs": [
    {
     "data": {
      "text/plain": [
       "0.8651345456134452"
      ]
     },
     "execution_count": 9,
     "metadata": {},
     "output_type": "execute_result"
    }
   ],
   "source": [
    "# proportion of sections that were unique ie used in only one article\n",
    "len(unique_sections)/len(section_counter)"
   ]
  },
  {
   "cell_type": "code",
   "execution_count": 10,
   "id": "academic-attention",
   "metadata": {},
   "outputs": [
    {
     "data": {
      "text/plain": [
       "222217"
      ]
     },
     "execution_count": 10,
     "metadata": {},
     "output_type": "execute_result"
    }
   ],
   "source": [
    "# number of remaining different sections\n",
    "len(section_counter)-len(unique_sections)"
   ]
  },
  {
   "cell_type": "code",
   "execution_count": 12,
   "id": "illegal-worship",
   "metadata": {
    "scrolled": true
   },
   "outputs": [
    {
     "data": {
      "text/plain": [
       "588489"
      ]
     },
     "execution_count": 12,
     "metadata": {},
     "output_type": "execute_result"
    }
   ],
   "source": [
    "# number of articles which had 0 sections after removing unique and too broad sections\n",
    "len(articles_with_0_sections)"
   ]
  },
  {
   "cell_type": "code",
   "execution_count": 14,
   "id": "checked-restriction",
   "metadata": {},
   "outputs": [
    {
     "data": {
      "text/plain": [
       "0.194370900299241"
      ]
     },
     "execution_count": 14,
     "metadata": {},
     "output_type": "execute_result"
    }
   ],
   "source": [
    "# proportion of articles that had no sections left after filtering\n",
    "len(articles_with_0_sections)/len(article_sections)"
   ]
  },
  {
   "cell_type": "code",
   "execution_count": 15,
   "id": "amateur-edgar",
   "metadata": {},
   "outputs": [
    {
     "data": {
      "text/plain": [
       "3027660"
      ]
     },
     "execution_count": 15,
     "metadata": {},
     "output_type": "execute_result"
    }
   ],
   "source": [
    "# number of articles after filtering\n",
    "len(article_sections)"
   ]
  },
  {
   "cell_type": "code",
   "execution_count": 13,
   "id": "minute-denver",
   "metadata": {},
   "outputs": [
    {
     "name": "stdout",
     "output_type": "stream",
     "text": [
      "Number of unique sections: 1378941\n",
      "Proportion of sections that were used in only one article: 0.8652336262118652\n",
      "Number of remaining different sections: 214780\n",
      "Number of articles which had 0 sections after filtering sections: 1886067\n",
      "Proportion of articles that had no sections left after filtering: 0.37015455268038505\n",
      "Number of articles after filtering: 3209283\n"
     ]
    }
   ],
   "source": [
    "article_sections_2017_filename=\"../data/article_sections_2017.json\"\n",
    "if reproducion_2017:\n",
    "    filter_sections(article_sections_2017_filename)"
   ]
  },
  {
   "cell_type": "code",
   "execution_count": null,
   "id": "atmospheric-soccer",
   "metadata": {},
   "outputs": [],
   "source": []
  }
 ],
 "metadata": {
  "kernelspec": {
   "display_name": "tm_venv",
   "language": "python",
   "name": "tm_venv"
  },
  "language_info": {
   "codemirror_mode": {
    "name": "ipython",
    "version": 3
   },
   "file_extension": ".py",
   "mimetype": "text/x-python",
   "name": "python",
   "nbconvert_exporter": "python",
   "pygments_lexer": "ipython3",
   "version": "3.10.1"
  }
 },
 "nbformat": 4,
 "nbformat_minor": 5
}
