{
 "cells": [
  {
   "cell_type": "code",
   "execution_count": 1,
   "id": "deadly-access",
   "metadata": {},
   "outputs": [],
   "source": [
    "%run ../utils/dataset_building.py"
   ]
  },
  {
   "cell_type": "code",
   "execution_count": 2,
   "id": "preceding-cincinnati",
   "metadata": {},
   "outputs": [
    {
     "name": "stdout",
     "output_type": "stream",
     "text": [
      "Connection to MySQL DB successful\n"
     ]
    }
   ],
   "source": [
    "# the connection variables are defined in ../utils/dataset_building.py\n",
    "connection = create_mysql_connection(MYSQL_SERVER, MYSQL_USER, MYSQL_PASSWORD, MYSQL_DB)"
   ]
  },
  {
   "cell_type": "code",
   "execution_count": 3,
   "id": "matched-robin",
   "metadata": {},
   "outputs": [],
   "source": [
    "# get article id and article title for wikipedia articles i.e. namespace 0\n",
    "# (exclude user pages, discussion pages, categories etc.) which are not redirects\n",
    "select = f\"select page_id, page_title from page where page_namespace=0 and page_is_redirect=0\"\n",
    "article_ids_titles = execute_read_query(connection, select)"
   ]
  },
  {
   "cell_type": "code",
   "execution_count": 4,
   "id": "frequent-handbook",
   "metadata": {},
   "outputs": [],
   "source": [
    "write_tuple_list_to_file(article_ids_titles,\"../data/article_ids_titles.tsv\")"
   ]
  }
 ],
 "metadata": {
  "kernelspec": {
   "display_name": "tm_venv",
   "language": "python",
   "name": "tm_venv"
  },
  "language_info": {
   "codemirror_mode": {
    "name": "ipython",
    "version": 3
   },
   "file_extension": ".py",
   "mimetype": "text/x-python",
   "name": "python",
   "nbconvert_exporter": "python",
   "pygments_lexer": "ipython3",
   "version": "3.10.1"
  }
 },
 "nbformat": 4,
 "nbformat_minor": 5
}
