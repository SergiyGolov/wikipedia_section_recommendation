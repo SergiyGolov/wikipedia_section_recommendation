{
 "cells": [
  {
   "cell_type": "code",
   "execution_count": 1,
   "id": "remarkable-arnold",
   "metadata": {},
   "outputs": [],
   "source": [
    "%run ../utils/dataset_building.py"
   ]
  },
  {
   "cell_type": "code",
   "execution_count": 2,
   "id": "atmospheric-division",
   "metadata": {},
   "outputs": [],
   "source": [
    "from nltk.tokenize import sent_tokenize"
   ]
  },
  {
   "cell_type": "code",
   "execution_count": 3,
   "id": "worldwide-compound",
   "metadata": {},
   "outputs": [
    {
     "name": "stdout",
     "output_type": "stream",
     "text": [
      "\tGetting all article ids...\n"
     ]
    }
   ],
   "source": [
    "nb_articles=len(get_all_articles(\"../data/article_categories_no_unknown_types.tsv\"))"
   ]
  },
  {
   "cell_type": "code",
   "execution_count": 4,
   "id": "optimum-windows",
   "metadata": {
    "scrolled": false
   },
   "outputs": [
    {
     "data": {
      "application/vnd.jupyter.widget-view+json": {
       "model_id": "afc2495a85f84cd48dd65297dd51d881",
       "version_major": 2,
       "version_minor": 0
      },
      "text/plain": [
       "  0%|          | 0/2048191 [00:00<?, ?it/s]"
      ]
     },
     "metadata": {},
     "output_type": "display_data"
    }
   ],
   "source": [
    "\n",
    "with open(\"../data/article_section_sentences.json\", \"a+\") as f_out:\n",
    "    with open(\"../data/article_section_contents_filtered_no_unknown_types.json\", \"r\") as f_in:\n",
    "        for line in tqdm(f_in,total=nb_articles):\n",
    "            json_line=json.loads(line)\n",
    "            article_id=json_line['article_id']\n",
    "            section_contents=json_line['section_contents']\n",
    "            section_sentences=[]\n",
    "            for x in section_contents:\n",
    "                section=x['section']\n",
    "                content=x['content']\n",
    "                for sentence in sent_tokenize(content):\n",
    "                    # in some section contents, the first line was the section title itself\n",
    "                    if sentence[:-1]==section:\n",
    "                        continue\n",
    "                    section_sentences.append({'section':section,'sentence':sentence})\n",
    "            f_out.write(json.dumps({'article_id':article_id,'section_sentences':section_sentences})+\"\\n\")"
   ]
  },
  {
   "cell_type": "code",
   "execution_count": null,
   "id": "impressed-russell",
   "metadata": {},
   "outputs": [],
   "source": []
  }
 ],
 "metadata": {
  "kernelspec": {
   "display_name": "Python 3.9.5 64-bit ('tm_venv')",
   "language": "python",
   "name": "python39564bittmvenv3226d3cd01364047aed0020f60ff15c7"
  },
  "language_info": {
   "codemirror_mode": {
    "name": "ipython",
    "version": 3
   },
   "file_extension": ".py",
   "mimetype": "text/x-python",
   "name": "python",
   "nbconvert_exporter": "python",
   "pygments_lexer": "ipython3",
   "version": "3.10.1"
  }
 },
 "nbformat": 4,
 "nbformat_minor": 5
}
