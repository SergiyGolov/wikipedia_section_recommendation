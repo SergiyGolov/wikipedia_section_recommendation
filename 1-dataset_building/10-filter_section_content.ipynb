{
 "cells": [
  {
   "cell_type": "code",
   "execution_count": 1,
   "id": "square-observation",
   "metadata": {},
   "outputs": [],
   "source": [
    "%run ../utils/dataset_building.py"
   ]
  },
  {
   "cell_type": "code",
   "execution_count": 2,
   "id": "twelve-bookmark",
   "metadata": {},
   "outputs": [],
   "source": [
    "# we keep only articles having at least 1 section after section filtering + only articles which have a defined type"
   ]
  },
  {
   "cell_type": "code",
   "execution_count": 3,
   "id": "democratic-victor",
   "metadata": {},
   "outputs": [
    {
     "name": "stdout",
     "output_type": "stream",
     "text": [
      "\tGetting all article ids...\n"
     ]
    }
   ],
   "source": [
    "articles_with_defined_type=get_all_articles(\"../data/article_categories_no_unknown_types.tsv\")"
   ]
  },
  {
   "cell_type": "code",
   "execution_count": 4,
   "id": "assured-consolidation",
   "metadata": {},
   "outputs": [
    {
     "data": {
      "text/plain": [
       "2048191"
      ]
     },
     "execution_count": 4,
     "metadata": {},
     "output_type": "execute_result"
    }
   ],
   "source": [
    "len(articles_with_defined_type)"
   ]
  },
  {
   "cell_type": "code",
   "execution_count": 5,
   "id": "cleared-palmer",
   "metadata": {},
   "outputs": [],
   "source": [
    "article_sections_filtered=load_json(\"../data/article_sections_filtered.json\", object_hook=article_sections_object_hook)\n",
    "articles_with_at_least_1_section=set(article_sections_filtered.keys())"
   ]
  },
  {
   "cell_type": "code",
   "execution_count": 6,
   "id": "adequate-wright",
   "metadata": {},
   "outputs": [
    {
     "data": {
      "text/plain": [
       "3027660"
      ]
     },
     "execution_count": 6,
     "metadata": {},
     "output_type": "execute_result"
    }
   ],
   "source": [
    "len(articles_with_at_least_1_section)"
   ]
  },
  {
   "cell_type": "code",
   "execution_count": 7,
   "id": "durable-sessions",
   "metadata": {},
   "outputs": [],
   "source": [
    "articles_to_keep=articles_with_defined_type.intersection(articles_with_at_least_1_section)"
   ]
  },
  {
   "cell_type": "code",
   "execution_count": 8,
   "id": "eastern-intranet",
   "metadata": {},
   "outputs": [
    {
     "data": {
      "text/plain": [
       "1837019"
      ]
     },
     "execution_count": 8,
     "metadata": {},
     "output_type": "execute_result"
    }
   ],
   "source": [
    "len(articles_to_keep)"
   ]
  },
  {
   "cell_type": "code",
   "execution_count": 9,
   "id": "referenced-failure",
   "metadata": {},
   "outputs": [],
   "source": [
    "sections_to_keep=set().union(*article_sections_filtered.values())"
   ]
  },
  {
   "cell_type": "code",
   "execution_count": 10,
   "id": "thorough-possible",
   "metadata": {},
   "outputs": [
    {
     "data": {
      "text/plain": [
       "222204"
      ]
     },
     "execution_count": 10,
     "metadata": {},
     "output_type": "execute_result"
    }
   ],
   "source": [
    "len(sections_to_keep)"
   ]
  },
  {
   "cell_type": "code",
   "execution_count": 11,
   "id": "dangerous-representation",
   "metadata": {},
   "outputs": [
    {
     "data": {
      "application/vnd.jupyter.widget-view+json": {
       "model_id": "2ff371e629114a239b734f58f7db7831",
       "version_major": 2,
       "version_minor": 0
      },
      "text/plain": [
       "  0%|          | 0/1837019 [00:00<?, ?it/s]"
      ]
     },
     "metadata": {},
     "output_type": "display_data"
    }
   ],
   "source": [
    "pbar = tqdm(total = len(articles_to_keep))\n",
    "with open(\"../data/article_section_contents_filtered_no_unknown_types.json\", \"a+\") as f_out:\n",
    "    with open(\"../data/article_section_contents.json\", \"r\") as f_in:\n",
    "        for line in f_in:\n",
    "            json_line=json.loads(line)\n",
    "            article_id=json_line['article_id']\n",
    "            if article_id not in articles_to_keep:\n",
    "                continue\n",
    "            section_contents_filtered=[x for x in json_line['section_contents'] if x['section'] in sections_to_keep]\n",
    "            f_out.write(json.dumps({'article_id':article_id,'section_contents':section_contents_filtered})+\"\\n\")\n",
    "            pbar.update(1)"
   ]
  },
  {
   "cell_type": "code",
   "execution_count": null,
   "id": "headed-clone",
   "metadata": {},
   "outputs": [],
   "source": []
  }
 ],
 "metadata": {
  "kernelspec": {
   "display_name": "Python 3.9.5 64-bit ('tm_venv')",
   "language": "python",
   "name": "python39564bittmvenv3226d3cd01364047aed0020f60ff15c7"
  },
  "language_info": {
   "codemirror_mode": {
    "name": "ipython",
    "version": 3
   },
   "file_extension": ".py",
   "mimetype": "text/x-python",
   "name": "python",
   "nbconvert_exporter": "python",
   "pygments_lexer": "ipython3",
   "version": "3.10.1"
  }
 },
 "nbformat": 4,
 "nbformat_minor": 5
}
