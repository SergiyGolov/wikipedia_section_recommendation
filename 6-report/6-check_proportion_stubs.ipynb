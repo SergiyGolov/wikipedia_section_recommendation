{
 "cells": [
  {
   "cell_type": "code",
   "execution_count": 1,
   "id": "24aae17f",
   "metadata": {},
   "outputs": [],
   "source": [
    "%run ../utils/dataset_building.py"
   ]
  },
  {
   "cell_type": "code",
   "execution_count": 2,
   "id": "8a43ff21",
   "metadata": {},
   "outputs": [],
   "source": [
    "stub_articles=set()\n",
    "all_articles=set()\n",
    "with open(\"../data/article_categories.tsv\") as f:\n",
    "    for line in f:\n",
    "        split_line=line.split()\n",
    "        article_id=int(split_line[0])\n",
    "        all_articles.add(article_id)\n",
    "        category=split_line[-1]\n",
    "        if \"stubs\" in category:\n",
    "            stub_articles.add(article_id)"
   ]
  },
  {
   "cell_type": "code",
   "execution_count": 3,
   "id": "831c3caa",
   "metadata": {},
   "outputs": [
    {
     "data": {
      "text/plain": [
       "0.368185273323802"
      ]
     },
     "execution_count": 3,
     "metadata": {},
     "output_type": "execute_result"
    }
   ],
   "source": [
    "len(stub_articles)/len(all_articles)"
   ]
  },
  {
   "cell_type": "code",
   "execution_count": null,
   "id": "2a6087f9",
   "metadata": {},
   "outputs": [],
   "source": []
  }
 ],
 "metadata": {
  "kernelspec": {
   "display_name": "Python 3.9.6 64-bit ('tm_venv')",
   "language": "python",
   "name": "python39664bittmvenv3713232b368041e8be8140bef36bdf6e"
  },
  "language_info": {
   "codemirror_mode": {
    "name": "ipython",
    "version": 3
   },
   "file_extension": ".py",
   "mimetype": "text/x-python",
   "name": "python",
   "nbconvert_exporter": "python",
   "pygments_lexer": "ipython3",
   "version": "3.10.1"
  }
 },
 "nbformat": 4,
 "nbformat_minor": 5
}
