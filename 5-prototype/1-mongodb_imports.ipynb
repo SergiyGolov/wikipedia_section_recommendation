{
 "cells": [
  {
   "cell_type": "code",
   "execution_count": 13,
   "id": "wireless-impossible",
   "metadata": {},
   "outputs": [],
   "source": [
    "%run ../utils/common.py"
   ]
  },
  {
   "cell_type": "code",
   "execution_count": 2,
   "id": "opponent-member",
   "metadata": {},
   "outputs": [],
   "source": [
    "from pymongo import MongoClient\n",
    "client = MongoClient()\n",
    "db = client.wikipedia\n",
    "from collections import Counter\n"
   ]
  },
  {
   "cell_type": "code",
   "execution_count": 3,
   "id": "chicken-taiwan",
   "metadata": {},
   "outputs": [],
   "source": [
    "category_title_to_id_map=get_category_title_to_id_map()"
   ]
  },
  {
   "cell_type": "code",
   "execution_count": 4,
   "id": "acoustic-charger",
   "metadata": {},
   "outputs": [],
   "source": [
    "category_section_counts={}\n",
    "with open(\"../data/results/gini_threshold-0985_no_unknown_types-category_section_counts_with_test_set/recs_by_category_top30.json\") as f:\n",
    "    for line in f:\n",
    "        line_dict = json.loads(line)\n",
    "        category=line_dict['category']\n",
    "        recs=line_dict['recs']\n",
    "        if len(recs)==0:\n",
    "            continue\n",
    "        category_section_counts[category]={x['section']:x['probability'] for x in recs}"
   ]
  },
  {
   "cell_type": "code",
   "execution_count": 17,
   "id": "direct-enforcement",
   "metadata": {},
   "outputs": [
    {
     "data": {
      "application/vnd.jupyter.widget-view+json": {
       "model_id": "94819c7f123444b4b522153027fe6d8d",
       "version_major": 2,
       "version_minor": 0
      },
      "text/plain": [
       "  0%|          | 0/779163 [00:00<?, ?it/s]"
      ]
     },
     "metadata": {},
     "output_type": "display_data"
    },
    {
     "data": {
      "text/plain": [
       "'category_search_text'"
      ]
     },
     "execution_count": 17,
     "metadata": {},
     "output_type": "execute_result"
    }
   ],
   "source": [
    "\n",
    "for category, counter in tqdm(category_section_counts.items()):\n",
    "    category_id=category_title_to_id_map[category]\n",
    "    db.category_section_counts.insert_one({'category':category,'category_search':category.replace(\"_\",\" \"),'category_id':category_id,'recs':[{'section':section,'probability':probability} for section,probability in counter.items()]})\n",
    "db.category_section_counts.create_index('category_id')\n",
    "db.category_section_counts.create_index('category')\n",
    "db.category_section_counts.create_index([('category_search', 'text')])"
   ]
  },
  {
   "cell_type": "code",
   "execution_count": 18,
   "id": "agricultural-moisture",
   "metadata": {},
   "outputs": [],
   "source": [
    "#key: parent category, value: set of children categories\n",
    "parent_children={}\n",
    "\n",
    "with open(\"../data/category_graph_filtered_DAG.tsv\") as f:\n",
    "    for line in f:\n",
    "        split_line=line.split()\n",
    "        child=split_line[0]\n",
    "        parent=split_line[1]\n",
    "        if parent not in parent_children.keys():\n",
    "            parent_children[parent]=set()\n",
    "        parent_children[parent].add(child)"
   ]
  },
  {
   "cell_type": "code",
   "execution_count": 19,
   "id": "occupied-guyana",
   "metadata": {},
   "outputs": [],
   "source": [
    "categories_with_section_counts=set(category_section_counts.keys())"
   ]
  },
  {
   "cell_type": "code",
   "execution_count": 20,
   "id": "metric-intro",
   "metadata": {},
   "outputs": [],
   "source": [
    "with open(\"../data/category_graph_filtered_DAG.tsv\") as f:\n",
    "    for line in f:\n",
    "        split_line=line.split()\n",
    "        child=split_line[0]\n",
    "        parent=split_line[1]\n",
    "        \n",
    "        child_has_section_counts=False\n",
    "        \n",
    "        if child in categories_with_section_counts:\n",
    "            child_has_section_counts=True\n",
    "\n",
    "        child_is_parent=False\n",
    "        if child in parent_children.keys() and len(categories_with_section_counts.intersection(parent_children[child]))>0:\n",
    "            child_is_parent=True\n",
    "\n",
    "        child_id=category_title_to_id_map[child]\n",
    "        db.category_graph.insert_one({'child_is_parent':child_is_parent,'child_has_section_counts':child_has_section_counts,'child':child,'parent':parent,'child_id':child_id})"
   ]
  },
  {
   "cell_type": "code",
   "execution_count": 21,
   "id": "forty-cable",
   "metadata": {},
   "outputs": [
    {
     "data": {
      "text/plain": [
       "'child_1'"
      ]
     },
     "execution_count": 21,
     "metadata": {},
     "output_type": "execute_result"
    }
   ],
   "source": [
    "db.category_graph.create_index('parent')\n",
    "db.category_graph.create_index('child')"
   ]
  },
  {
   "cell_type": "code",
   "execution_count": 14,
   "id": "fourth-vienna",
   "metadata": {},
   "outputs": [],
   "source": [
    "processed_communities=get_processed_communities()"
   ]
  },
  {
   "cell_type": "code",
   "execution_count": 7,
   "id": "faced-vacuum",
   "metadata": {},
   "outputs": [],
   "source": [
    "community_categories={}\n",
    "with open(\"../data/categories_splitted_into_communities.json\", \"r\") as f_in:\n",
    "    for line in f_in:\n",
    "        json_line=json.loads(line)\n",
    "        community_id=json_line['community_id']\n",
    "        if community_id not in processed_communities:\n",
    "            continue\n",
    "        categories=json_line['categories']\n",
    "        community_categories[community_id]=categories\n",
    "        for category in categories:\n",
    "            db.category_community.insert_one({'community_id':community_id,'category_id':category_title_to_id_map[category]})"
   ]
  },
  {
   "cell_type": "code",
   "execution_count": 12,
   "id": "removable-cosmetic",
   "metadata": {},
   "outputs": [
    {
     "data": {
      "text/plain": [
       "'category_id_1'"
      ]
     },
     "execution_count": 12,
     "metadata": {},
     "output_type": "execute_result"
    }
   ],
   "source": [
    "db.category_community.create_index(\"category_id\")"
   ]
  },
  {
   "cell_type": "code",
   "execution_count": 5,
   "id": "scientific-delhi",
   "metadata": {},
   "outputs": [],
   "source": [
    "article_sections=load_json(\"../data/article_sections_filtered.json\", object_hook=article_sections_object_hook)"
   ]
  },
  {
   "cell_type": "code",
   "execution_count": 6,
   "id": "martial-venue",
   "metadata": {},
   "outputs": [],
   "source": [
    "category_articles={}\n",
    "with open(\"../data/gini_articles_scores_0985_no_unknown_type.json\") as f:\n",
    "    for line in f:\n",
    "        line_dict = json.loads(line)\n",
    "        category = line_dict['category']\n",
    "        articles=[article for article in line_dict['articles'] if article in article_sections.keys()]\n",
    "        category_articles[category]=articles"
   ]
  },
  {
   "cell_type": "code",
   "execution_count": 8,
   "id": "prescribed-linux",
   "metadata": {},
   "outputs": [
    {
     "data": {
      "application/vnd.jupyter.widget-view+json": {
       "model_id": "7b7bcc6600a54c64841265e1b5db2028",
       "version_major": 2,
       "version_minor": 0
      },
      "text/plain": [
       "  0%|          | 0/7917 [00:00<?, ?it/s]"
      ]
     },
     "metadata": {},
     "output_type": "display_data"
    }
   ],
   "source": [
    "for community_id in tqdm(processed_communities):\n",
    "    id_section_map={}\n",
    "    with open(f\"../data/semantic_similarity/community_{community_id}/sentence_counter_by_section.json\", \"r\") as f_in:\n",
    "        for line in f_in:\n",
    "            json_line=json.loads(line)\n",
    "            json_line['community_id']=community_id\n",
    "            \n",
    "            id_section_map[json_line['id']]=json_line['section']\n",
    "            \n",
    "    section_id_map={v:k for k,v in id_section_map.items()}\n",
    "            \n",
    "    categories=community_categories[community_id]\n",
    "    section_articles={}\n",
    "    for category in categories:\n",
    "        for article in category_articles[category]:\n",
    "            for section in article_sections[article]:\n",
    "                if section not in section_id_map.keys():\n",
    "                    continue\n",
    "                if section not in section_articles.keys():\n",
    "                    section_articles[section]=set()\n",
    "                section_articles[section].add(article)\n",
    "    \n",
    "    for section,articles in section_articles.items():\n",
    "        db.section_articles_by_community.insert_one({'community_id':community_id,'section':section,'articles':list(articles)})\n",
    "    "
   ]
  },
  {
   "cell_type": "code",
   "execution_count": 9,
   "id": "weird-floor",
   "metadata": {},
   "outputs": [
    {
     "data": {
      "text/plain": [
       "'section_1'"
      ]
     },
     "execution_count": 9,
     "metadata": {},
     "output_type": "execute_result"
    }
   ],
   "source": [
    "db.section_articles_by_community.create_index('community_id')\n",
    "db.section_articles_by_community.create_index('section')"
   ]
  },
  {
   "cell_type": "code",
   "execution_count": 13,
   "id": "based-domestic",
   "metadata": {},
   "outputs": [
    {
     "data": {
      "application/vnd.jupyter.widget-view+json": {
       "model_id": "a518291bfcc6487b89f5650811592ebf",
       "version_major": 2,
       "version_minor": 0
      },
      "text/plain": [
       "  0%|          | 0/7917 [00:00<?, ?it/s]"
      ]
     },
     "metadata": {},
     "output_type": "display_data"
    }
   ],
   "source": [
    "for community_id in tqdm(processed_communities):\n",
    "    id_section_map={}\n",
    "\n",
    "    with open(f\"../data/semantic_similarity/community_{community_id}/sentence_counter_by_section.json\", \"r\") as f_in:\n",
    "        for line in f_in:\n",
    "            json_line=json.loads(line)\n",
    "            json_line['community_id']=community_id\n",
    "            \n",
    "            id_section_map[json_line['id']]=json_line['section']\n",
    "            \n",
    "            db.sentence_counter_by_section_by_community.insert_one(json_line)\n",
    "    \n",
    "    \n",
    "    categories=community_categories[community_id]\n",
    "    section_articles={}\n",
    "    for category in categories:\n",
    "        for article in category_articles[category]:\n",
    "            for section in article_sections[article]:\n",
    "                if section not in section_articles.keys():\n",
    "                    section_articles[section]=set()\n",
    "                section_articles[section].add(article)\n",
    "            \n",
    "    \n",
    "    with open(f\"../data/semantic_similarity/community_{community_id}/similar_section_pairs.json\", \"r\") as f_in:\n",
    "        for line in f_in:\n",
    "            json_line=json.loads(line)\n",
    "            json_line['community_id']=community_id\n",
    "            db.semantic_similar_section_pairs.insert_one(json_line)\n"
   ]
  },
  {
   "cell_type": "code",
   "execution_count": 14,
   "id": "headed-worship",
   "metadata": {},
   "outputs": [
    {
     "data": {
      "text/plain": [
       "'section_B_1'"
      ]
     },
     "execution_count": 14,
     "metadata": {},
     "output_type": "execute_result"
    }
   ],
   "source": [
    "db.semantic_similar_section_pairs.create_index('community_id')\n",
    "db.semantic_similar_section_pairs.create_index('mean_score')\n",
    "db.semantic_similar_section_pairs.create_index('section_A')\n",
    "db.semantic_similar_section_pairs.create_index('section_B')"
   ]
  },
  {
   "cell_type": "code",
   "execution_count": 15,
   "id": "dutch-blame",
   "metadata": {},
   "outputs": [
    {
     "data": {
      "text/plain": [
       "'section_1'"
      ]
     },
     "execution_count": 15,
     "metadata": {},
     "output_type": "execute_result"
    }
   ],
   "source": [
    "db.sentence_counter_by_section_by_community.create_index('community_id')\n",
    "db.sentence_counter_by_section_by_community.create_index('section')"
   ]
  },
  {
   "cell_type": "code",
   "execution_count": 7,
   "id": "speaking-agreement",
   "metadata": {},
   "outputs": [
    {
     "data": {
      "application/vnd.jupyter.widget-view+json": {
       "model_id": "13e756d3c8a844f5afe719d31380340b",
       "version_major": 2,
       "version_minor": 0
      },
      "text/plain": [
       "  0%|          | 0/779163 [00:00<?, ?it/s]"
      ]
     },
     "metadata": {},
     "output_type": "display_data"
    }
   ],
   "source": [
    "\n",
    "for category,recs in tqdm(category_section_counts.items()):\n",
    "    category_id=category_title_to_id_map[category]\n",
    "    \n",
    "    section_order_numbers_beginning={}\n",
    "    section_order_numbers_end={}\n",
    "    \n",
    "    top_sections=set(recs.keys())\n",
    "    for article in category_articles[category]:\n",
    "        sections=article_sections[article]\n",
    "        n=len(sections)\n",
    "        idx_beginning=0\n",
    "        for section in sections:\n",
    "            idx_end=idx_beginning+1\n",
    "            if section in top_sections:\n",
    "                if section not in section_order_numbers_beginning.keys():\n",
    "                    section_order_numbers_beginning[section]=[]\n",
    "                    section_order_numbers_end[section]=[]\n",
    "                section_order_numbers_beginning[section].append(idx_beginning/n)\n",
    "                section_order_numbers_end[section].append(idx_end/n)\n",
    "            idx_beginning+=1\n",
    "            \n",
    "    for section in section_order_numbers_beginning.keys():\n",
    "        number_values=len(section_order_numbers_beginning[section])\n",
    "        sum_values_beginning=sum(section_order_numbers_beginning[section])\n",
    "        sum_values_end=sum(section_order_numbers_end[section])\n",
    "        db.section_ordering.insert_one({'category_id':category_id,'section':section,'number_values':number_values,'sum_values_beginning':sum_values_beginning,'sum_values_end':sum_values_end})"
   ]
  },
  {
   "cell_type": "code",
   "execution_count": 8,
   "id": "cultural-advice",
   "metadata": {},
   "outputs": [
    {
     "data": {
      "text/plain": [
       "'section_1'"
      ]
     },
     "execution_count": 8,
     "metadata": {},
     "output_type": "execute_result"
    }
   ],
   "source": [
    "db.section_ordering.create_index('category_id')\n",
    "db.section_ordering.create_index('section')"
   ]
  },
  {
   "cell_type": "code",
   "execution_count": 10,
   "id": "objective-investment",
   "metadata": {},
   "outputs": [
    {
     "data": {
      "application/vnd.jupyter.widget-view+json": {
       "model_id": "701748166f454327b9a6fd61ad2e74e9",
       "version_major": 2,
       "version_minor": 0
      },
      "text/plain": [
       "  0%|          | 0/1447449 [00:00<?, ?it/s]"
      ]
     },
     "metadata": {},
     "output_type": "display_data"
    }
   ],
   "source": [
    "for category,articles in tqdm(category_articles.items()):\n",
    "    if category not in category_section_counts.keys():\n",
    "        continue\n",
    "    nb_sections_counter=Counter()\n",
    "    for article in articles:\n",
    "        if article in article_sections.keys():\n",
    "            nb_sections_counter[len(article_sections[article])]+=1\n",
    "    category_id=category_title_to_id_map[category]\n",
    "    db.category_article_lengths.insert_one({'category_id':category_id,'article_lengths':[{'length':k,'count':v} for k,v in nb_sections_counter.items()]})"
   ]
  },
  {
   "cell_type": "code",
   "execution_count": 11,
   "id": "royal-dispute",
   "metadata": {},
   "outputs": [
    {
     "data": {
      "text/plain": [
       "'category_id_1'"
      ]
     },
     "execution_count": 11,
     "metadata": {},
     "output_type": "execute_result"
    }
   ],
   "source": [
    "db.category_article_lengths.create_index('category_id')"
   ]
  },
  {
   "cell_type": "code",
   "execution_count": 7,
   "id": "welcome-porter",
   "metadata": {},
   "outputs": [],
   "source": [
    "article_categories={}\n",
    "with open(\"../data/article_categories_no_unknown_types.tsv\") as f:\n",
    "    for line in f:\n",
    "        split_line=line.split()\n",
    "        article=split_line[1]\n",
    "        category=split_line[2]\n",
    "        if article not in article_categories.keys():\n",
    "            article_categories[article]=[]\n",
    "        if category in category_section_counts.keys():\n",
    "            article_categories[article].append(category)"
   ]
  },
  {
   "cell_type": "code",
   "execution_count": 8,
   "id": "chubby-fiction",
   "metadata": {},
   "outputs": [
    {
     "data": {
      "application/vnd.jupyter.widget-view+json": {
       "model_id": "7c633c1c75944caf96b1ccd2edec46fe",
       "version_major": 2,
       "version_minor": 0
      },
      "text/plain": [
       "  0%|          | 0/2048191 [00:00<?, ?it/s]"
      ]
     },
     "metadata": {},
     "output_type": "display_data"
    },
    {
     "data": {
      "text/plain": [
       "'article_search_text'"
      ]
     },
     "execution_count": 8,
     "metadata": {},
     "output_type": "execute_result"
    }
   ],
   "source": [
    "for article,categories in tqdm(article_categories.items()):\n",
    "    if len(categories)>0:\n",
    "        db.article_categories.insert_one({'categories':categories,'article_search':article.replace(\"_\",\" \")})\n",
    "db.article_categories.create_index([('article_search', 'text')])"
   ]
  },
  {
   "cell_type": "code",
   "execution_count": null,
   "id": "executed-identity",
   "metadata": {},
   "outputs": [],
   "source": [
    "for community_id in processed_communities:\n",
    "    try:\n",
    "        with open(f\"../data/semantic_similarity/community_{community_id}/cosine_sim_thresholds.json\", \"r\") as f_in:\n",
    "            for line in f_in:\n",
    "                json_line=json.loads(line)\n",
    "                json_line['community_id']=community_id\n",
    "                db.cosine_sim_thresholds_by_community.insert_one(json_line)\n",
    "    #can occur if there is only a single pair of similar sentences\n",
    "    except FileNotFoundError:\n",
    "        pass"
   ]
  },
  {
   "cell_type": "code",
   "execution_count": null,
   "id": "6222286d",
   "metadata": {},
   "outputs": [],
   "source": [
    "db.cosine_sim_thresholds_by_community.create_index('community_id')\n",
    "db.cosine_sim_thresholds_by_community.create_index('semantic_filtering_level')"
   ]
  }
 ],
 "metadata": {
  "kernelspec": {
   "display_name": "Python 3.9.5 64-bit ('tm_venv')",
   "language": "python",
   "name": "python39564bittmvenv3226d3cd01364047aed0020f60ff15c7"
  },
  "language_info": {
   "codemirror_mode": {
    "name": "ipython",
    "version": 3
   },
   "file_extension": ".py",
   "mimetype": "text/x-python",
   "name": "python",
   "nbconvert_exporter": "python",
   "pygments_lexer": "ipython3",
   "version": "3.10.1"
  }
 },
 "nbformat": 4,
 "nbformat_minor": 5
}
